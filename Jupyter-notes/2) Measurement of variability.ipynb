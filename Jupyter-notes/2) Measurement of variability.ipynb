{
 "cells": [
  {
   "cell_type": "markdown",
   "id": "105f5595-ff28-4c66-9076-314a22bd45c1",
   "metadata": {},
   "source": [
    "# 📏 Measurement of Variability (Dispersion)\n",
    "\n",
    "## 🧠 What is Variability?\n",
    "Variability refers to how spread out or scattered the data values are around the **central tendency** (mean/median/mode). It helps answer:  \n",
    "👉 *\"How consistent or inconsistent is the data?\"*\n",
    "\n",
    "---\n",
    "\n",
    "## 📚 Common Measures of Variability\n",
    "\n",
    "| Measure                     | Description                                           | Formula / Notes                                               |\n",
    "|-----------------------------|-------------------------------------------------------|----------------------------------------------------------------|\n",
    "| **Range**                  | Difference between max and min values                 | `Range = Max - Min`                                            |\n",
    "| **Interquartile Range (IQR)** | Spread of middle 50% of data                         | `IQR = Q3 - Q1` (Less affected by outliers)                   |\n",
    "| **Variance**               | Average of squared deviations from the mean           | Population: ![σ²](https://latex.codecogs.com/svg.image?\\sigma^2=\\frac{\\sum(x_i-\\mu)^2}{N}) <br> Sample: ![s²](https://latex.codecogs.com/svg.image?s^2=\\frac{\\sum(x_i-\\bar{x})^2}{n-1}) |\n",
    "| **Standard Deviation (SD)** | Square root of variance                              | More interpretable than variance (in original units)          |\n",
    "| **Mean Absolute Deviation (MAD)** | Average of absolute deviations from the mean       | `MAD = (∑|x - mean|)/n`                                       |\n",
    "| **Coefficient of Variation (CV)** | Ratio of SD to mean (in %)                         | `CV = (SD / Mean) × 100` → Used to compare spread across datasets |\n",
    "\n",
    "---\n",
    "\n",
    "## 📊 Real-World Usage\n",
    "\n",
    "| Scenario                           | Best Measure            | Why?                                                   |\n",
    "|-----------------------------------|--------------------------|--------------------------------------------------------|\n",
    "| Income disparity                  | IQR or SD                | SD shows spread; IQR handles skewed income distribution |\n",
    "| Stock market returns              | CV                       | Helps compare volatility across stocks with different scales |\n",
    "| Exam scores analysis              | SD or MAD                | Shows how consistent students’ scores are              |\n",
    "| Quality control in manufacturing  | Range, SD                | Detects process variability                            |\n",
    "| Comparing two data distributions  | CV, SD                   | Standardized comparison                                |\n",
    "\n",
    "---\n",
    "\n",
    "## ✅ When to Use Which Measure?\n",
    "\n",
    "- **Use IQR** if data has **outliers or is skewed**\n",
    "- **Use Standard Deviation** for **normal distributions** and widely accepted statistical analysis\n",
    "- **Use MAD** when you want a more **robust, interpretable** alternative to SD\n",
    "- **Use CV** when comparing **variation between datasets** with different means or units\n",
    "\n",
    "---\n",
    "\n",
    "## 🔎 Summary Table\n",
    "\n",
    "| Measure           | Sensitive to Outliers? | Robust? | Easy to Interpret? | Best Use Case                        |\n",
    "|------------------|------------------------|---------|---------------------|--------------------------------------|\n",
    "| Range            | ✅ Yes                 | ❌ No   | ✅ Yes              | Quick estimate                       |\n",
    "| IQR              | ❌ No                  | ✅ Yes  | ✅ Yes              | Skewed distributions                 |\n",
    "| Variance         | ✅ Yes                 | ❌ No   | ❌ No               | Theoretical/statistical work         |\n",
    "| SD               | ✅ Yes                 | ❌ No   | ✅ Yes              | General-purpose, widely used         |\n",
    "| MAD              | ❌ No                  | ✅ Yes  | ✅ Yes              | Stable alternative to SD             |\n",
    "| CV               | ✅ Yes                 | ❌ No   | ✅ Yes              | Comparing relative variability       |\n",
    "\n",
    "---\n",
    "\n",
    "## 🧠 Final Tip\n",
    "\n",
    "Variability is as important as central tendency.  \n",
    "Two datasets can have the same mean but **very different spreads** — understanding **spread** leads to **better decision-making**!\n",
    "\n"
   ]
  },
  {
   "cell_type": "markdown",
   "id": "c1c81aec-1637-42c0-8160-a3fcd7e4cc06",
   "metadata": {},
   "source": [
    "📊 Measurement of Variability (Dispersion): Complete Guide\n",
    "Variability tells us how spread out or dispersed the data values are in a dataset. It complements measures of central tendency (like mean, median, mode).\n",
    "\n",
    "✅ Main Measures of Variability:\n",
    "Measure\tFormula\tUse Case / Notes\n",
    "1. Range\t\n",
    "Range\n",
    "=\n",
    "Max\n",
    "−\n",
    "Min\n",
    "Range=Max−Min\tEasiest to calculate, but very sensitive to outliers\n",
    "2. Interquartile Range (IQR)\t\n",
    "IQR\n",
    "=\n",
    "𝑄\n",
    "3\n",
    "−\n",
    "𝑄\n",
    "1\n",
    "IQR=Q \n",
    "3\n",
    "​\n",
    " −Q \n",
    "1\n",
    "​\n",
    " \tMeasures spread of middle 50% of data (robust to outliers)\n",
    "3. Variance\t\n",
    "𝜎\n",
    "2\n",
    "=\n",
    "1\n",
    "𝑛\n",
    "∑\n",
    "(\n",
    "𝑥\n",
    "𝑖\n",
    "−\n",
    "𝑥\n",
    "ˉ\n",
    ")\n",
    "2\n",
    "σ \n",
    "2\n",
    " = \n",
    "n\n",
    "1\n",
    "​\n",
    " ∑(x \n",
    "i\n",
    "​\n",
    " − \n",
    "x\n",
    "ˉ\n",
    " ) \n",
    "2\n",
    " \tFoundation of standard deviation\n",
    "4. Standard Deviation (SD)\t\n",
    "𝜎\n",
    "=\n",
    "Variance\n",
    "σ= \n",
    "Variance\n",
    "​\n",
    " \tMost commonly used, but sensitive to outliers\n",
    "5. Mean Absolute Deviation (MAD)\t( \\frac{1}{n} \\sum\tx_i - \\bar{x}\n",
    "6. Median Absolute Deviation\t( \\text{MAD}_{\\text{med}} = \\text{median}(\tx_i - \\text{median}(x)\n",
    "\n",
    "🔄 Scenarios / Cases You Might Encounter While Calculating:\n",
    "1. Outliers Present\n",
    "SD and variance will be distorted by extreme values.\n",
    "\n",
    "Use IQR, MAD, or Median Absolute Deviation instead.\n",
    "\n",
    "2. Skewed Data\n",
    "Mean ≠ Median.\n",
    "\n",
    "Again, prefer IQR or MAD over SD.\n",
    "\n",
    "3. Small Dataset\n",
    "SD may not be reliable (especially with n < 30).\n",
    "\n",
    "Consider range or IQR, but interpret with caution.\n",
    "\n",
    "4. Categorical Data\n",
    "Variability measures like SD, variance don’t apply.\n",
    "\n",
    "Use frequency distribution, entropy, or mode spread.\n",
    "\n",
    "5. Tied / Constant Values\n",
    "If all values are the same:\n",
    "\n",
    "Range = 0\n",
    "\n",
    "Variance = 0\n",
    "\n",
    "SD = 0\n",
    "\n",
    "MAD = 0\n",
    "\n",
    "IQR = 0\n",
    "➤ No variability in the dataset.\n",
    "\n",
    "6. Missing or NaN Values\n",
    "Functions like np.mean(), np.std() may return NaN.\n",
    "\n",
    "Use:\n",
    "\n",
    "python\n",
    "Copy\n",
    "Edit\n",
    "np.nanmean(), np.nanstd(), df.dropna(), df.fillna()\n",
    "7. Grouped or Binned Data\n",
    "Use variance of group means, or calculate within-group vs between-group variance (e.g., ANOVA).\n",
    "\n",
    "📌 Summary Table:\n",
    "Dataset Situation\tBest Measure(s)\n",
    "Normal distribution\tSD, Variance\n",
    "Outliers present\tIQR, MAD\n",
    "Small data\tRange, IQR\n",
    "Categorical data\tFrequency, Mode\n",
    "Uniform data\tAll variability = 0\n",
    "Skewed data\tIQR, Median Absolute Deviation"
   ]
  },
  {
   "cell_type": "markdown",
   "id": "ea377584-ee23-4a0e-8f30-d6dad3e7fc47",
   "metadata": {},
   "source": [
    "Here’s a clear breakdown of what each variability measure tells you, and what conclusions you can draw:\n",
    "\n",
    "✅ 1. Range\n",
    "What it tells you:\n",
    "The difference between the largest and smallest value.\n",
    "\n",
    "Conclusion:\n",
    "\n",
    "A large range → data is widely spread.\n",
    "\n",
    "A small range → values are tightly grouped.\n",
    "\n",
    "Very sensitive to outliers — might give a misleading impression.\n",
    "\n",
    "✅ 2. Interquartile Range (IQR)\n",
    "What it tells you:\n",
    "The spread of the middle 50% of your data (Q3 − Q1).\n",
    "\n",
    "Conclusion:\n",
    "\n",
    "High IQR → data is spread out in the middle half.\n",
    "\n",
    "Low IQR → middle values are closely packed.\n",
    "\n",
    "Less affected by outliers, making it great for skewed data.\n",
    "\n",
    "✅ 3. Variance\n",
    "What it tells you:\n",
    "The average of the squared deviations from the mean.\n",
    "\n",
    "Conclusion:\n",
    "\n",
    "High variance → large spread (some values are far from the mean).\n",
    "\n",
    "Low variance → values are generally close to the mean.\n",
    "\n",
    "Units are squared → not easy to interpret alone.\n",
    "\n",
    "✅ 4. Standard Deviation (SD)\n",
    "What it tells you:\n",
    "The average distance from the mean (in original units).\n",
    "\n",
    "Conclusion:\n",
    "\n",
    "SD ≈ 0 → data points are almost the same.\n",
    "\n",
    "SD ↑ → more variability or spread.\n",
    "\n",
    "In normal distribution:\n",
    "\n",
    "~68% of data lies within ±1 SD\n",
    "\n",
    "~95% within ±2 SD\n",
    "\n",
    "Sensitive to outliers and skew.\n",
    "\n",
    "✅ 5. Mean Absolute Deviation (MAD)\n",
    "What it tells you:\n",
    "The average absolute distance from the mean.\n",
    "\n",
    "Conclusion:\n",
    "\n",
    "MAD ↑ → data is more spread out.\n",
    "\n",
    "MAD is robust to outliers (unlike SD).\n",
    "\n",
    "Gives a simpler average deviation without squaring.\n",
    "\n",
    "✅ 6. Median Absolute Deviation (Median MAD)\n",
    "What it tells you:\n",
    "The median of the absolute deviations from the median.\n",
    "\n",
    "Conclusion:\n",
    "\n",
    "Very robust: best for highly skewed data or outliers.\n",
    "\n",
    "Shows typical deviation from the central trend.\n",
    "\n",
    "🔍 Summary Table:\n",
    "Measure\tHigh Value Means\tLow Value Means\tGood For\n",
    "Range\tExtreme spread (possible outlier)\tValues are close together\tQuick idea of spread\n",
    "IQR\tData is widely spread in middle 50%\tMost data is centered\tSkewed/outlier-prone data\n",
    "Variance\tBig differences from mean\tData close to mean\tTheoretical analysis\n",
    "SD\tHigh deviation from mean\tLow variability\tNormal distributions\n",
    "MAD\tSteady, moderate spread\tTight clustering\tOutlier-resistant view\n",
    "Median MAD\tSpread despite extreme values\tCentral consistency\tSkewed/extreme datasets\n",
    "\n",
    "📌 Final Tip:\n",
    "Always pair measure of central tendency (mean/median) with measure of variability to get the complete story of the data."
   ]
  },
  {
   "cell_type": "code",
   "execution_count": 1,
   "id": "b9488e30-fb50-4992-951b-e677a55f9dd7",
   "metadata": {},
   "outputs": [],
   "source": [
    "import numpy as np\n",
    "import pandas as pd\n",
    "import matplotlib.pyplot as plt\n",
    "import seaborn as sns"
   ]
  },
  {
   "cell_type": "code",
   "execution_count": 2,
   "id": "d9ff749d-198e-4d3e-8745-cb46f36851b1",
   "metadata": {},
   "outputs": [],
   "source": [
    "data = pd.read_csv(\"D:/Data Science/Datasets/shopping_trends.csv\")"
   ]
  },
  {
   "cell_type": "code",
   "execution_count": 3,
   "id": "ad21bbf3-5f6d-4798-b587-689a140bdfd6",
   "metadata": {},
   "outputs": [
    {
     "data": {
      "text/html": [
       "<div>\n",
       "<style scoped>\n",
       "    .dataframe tbody tr th:only-of-type {\n",
       "        vertical-align: middle;\n",
       "    }\n",
       "\n",
       "    .dataframe tbody tr th {\n",
       "        vertical-align: top;\n",
       "    }\n",
       "\n",
       "    .dataframe thead th {\n",
       "        text-align: right;\n",
       "    }\n",
       "</style>\n",
       "<table border=\"1\" class=\"dataframe\">\n",
       "  <thead>\n",
       "    <tr style=\"text-align: right;\">\n",
       "      <th></th>\n",
       "      <th>Customer ID</th>\n",
       "      <th>Age</th>\n",
       "      <th>Gender</th>\n",
       "      <th>Item Purchased</th>\n",
       "      <th>Category</th>\n",
       "      <th>Purchase Amount (USD)</th>\n",
       "      <th>Location</th>\n",
       "      <th>Size</th>\n",
       "      <th>Color</th>\n",
       "      <th>Season</th>\n",
       "      <th>Review Rating</th>\n",
       "      <th>Subscription Status</th>\n",
       "      <th>Payment Method</th>\n",
       "      <th>Shipping Type</th>\n",
       "      <th>Discount Applied</th>\n",
       "      <th>Promo Code Used</th>\n",
       "      <th>Previous Purchases</th>\n",
       "      <th>Preferred Payment Method</th>\n",
       "      <th>Frequency of Purchases</th>\n",
       "    </tr>\n",
       "  </thead>\n",
       "  <tbody>\n",
       "    <tr>\n",
       "      <th>0</th>\n",
       "      <td>1</td>\n",
       "      <td>55</td>\n",
       "      <td>Male</td>\n",
       "      <td>Blouse</td>\n",
       "      <td>Clothing</td>\n",
       "      <td>53</td>\n",
       "      <td>Kentucky</td>\n",
       "      <td>L</td>\n",
       "      <td>Gray</td>\n",
       "      <td>Winter</td>\n",
       "      <td>3.1</td>\n",
       "      <td>Yes</td>\n",
       "      <td>Credit Card</td>\n",
       "      <td>Express</td>\n",
       "      <td>Yes</td>\n",
       "      <td>Yes</td>\n",
       "      <td>14</td>\n",
       "      <td>Venmo</td>\n",
       "      <td>Fortnightly</td>\n",
       "    </tr>\n",
       "    <tr>\n",
       "      <th>1</th>\n",
       "      <td>2</td>\n",
       "      <td>19</td>\n",
       "      <td>Male</td>\n",
       "      <td>Sweater</td>\n",
       "      <td>Clothing</td>\n",
       "      <td>64</td>\n",
       "      <td>Maine</td>\n",
       "      <td>L</td>\n",
       "      <td>Maroon</td>\n",
       "      <td>Winter</td>\n",
       "      <td>3.1</td>\n",
       "      <td>Yes</td>\n",
       "      <td>Bank Transfer</td>\n",
       "      <td>Express</td>\n",
       "      <td>Yes</td>\n",
       "      <td>Yes</td>\n",
       "      <td>2</td>\n",
       "      <td>Cash</td>\n",
       "      <td>Fortnightly</td>\n",
       "    </tr>\n",
       "    <tr>\n",
       "      <th>2</th>\n",
       "      <td>3</td>\n",
       "      <td>50</td>\n",
       "      <td>Male</td>\n",
       "      <td>Jeans</td>\n",
       "      <td>Clothing</td>\n",
       "      <td>73</td>\n",
       "      <td>Massachusetts</td>\n",
       "      <td>S</td>\n",
       "      <td>Maroon</td>\n",
       "      <td>Spring</td>\n",
       "      <td>3.1</td>\n",
       "      <td>Yes</td>\n",
       "      <td>Cash</td>\n",
       "      <td>Free Shipping</td>\n",
       "      <td>Yes</td>\n",
       "      <td>Yes</td>\n",
       "      <td>23</td>\n",
       "      <td>Credit Card</td>\n",
       "      <td>Weekly</td>\n",
       "    </tr>\n",
       "    <tr>\n",
       "      <th>3</th>\n",
       "      <td>4</td>\n",
       "      <td>21</td>\n",
       "      <td>Male</td>\n",
       "      <td>Sandals</td>\n",
       "      <td>Footwear</td>\n",
       "      <td>90</td>\n",
       "      <td>Rhode Island</td>\n",
       "      <td>M</td>\n",
       "      <td>Maroon</td>\n",
       "      <td>Spring</td>\n",
       "      <td>3.5</td>\n",
       "      <td>Yes</td>\n",
       "      <td>PayPal</td>\n",
       "      <td>Next Day Air</td>\n",
       "      <td>Yes</td>\n",
       "      <td>Yes</td>\n",
       "      <td>49</td>\n",
       "      <td>PayPal</td>\n",
       "      <td>Weekly</td>\n",
       "    </tr>\n",
       "    <tr>\n",
       "      <th>4</th>\n",
       "      <td>5</td>\n",
       "      <td>45</td>\n",
       "      <td>Male</td>\n",
       "      <td>Blouse</td>\n",
       "      <td>Clothing</td>\n",
       "      <td>49</td>\n",
       "      <td>Oregon</td>\n",
       "      <td>M</td>\n",
       "      <td>Turquoise</td>\n",
       "      <td>Spring</td>\n",
       "      <td>2.7</td>\n",
       "      <td>Yes</td>\n",
       "      <td>Cash</td>\n",
       "      <td>Free Shipping</td>\n",
       "      <td>Yes</td>\n",
       "      <td>Yes</td>\n",
       "      <td>31</td>\n",
       "      <td>PayPal</td>\n",
       "      <td>Annually</td>\n",
       "    </tr>\n",
       "  </tbody>\n",
       "</table>\n",
       "</div>"
      ],
      "text/plain": [
       "   Customer ID  Age Gender Item Purchased  Category  Purchase Amount (USD)  \\\n",
       "0            1   55   Male         Blouse  Clothing                     53   \n",
       "1            2   19   Male        Sweater  Clothing                     64   \n",
       "2            3   50   Male          Jeans  Clothing                     73   \n",
       "3            4   21   Male        Sandals  Footwear                     90   \n",
       "4            5   45   Male         Blouse  Clothing                     49   \n",
       "\n",
       "        Location Size      Color  Season  Review Rating Subscription Status  \\\n",
       "0       Kentucky    L       Gray  Winter            3.1                 Yes   \n",
       "1          Maine    L     Maroon  Winter            3.1                 Yes   \n",
       "2  Massachusetts    S     Maroon  Spring            3.1                 Yes   \n",
       "3   Rhode Island    M     Maroon  Spring            3.5                 Yes   \n",
       "4         Oregon    M  Turquoise  Spring            2.7                 Yes   \n",
       "\n",
       "  Payment Method  Shipping Type Discount Applied Promo Code Used  \\\n",
       "0    Credit Card        Express              Yes             Yes   \n",
       "1  Bank Transfer        Express              Yes             Yes   \n",
       "2           Cash  Free Shipping              Yes             Yes   \n",
       "3         PayPal   Next Day Air              Yes             Yes   \n",
       "4           Cash  Free Shipping              Yes             Yes   \n",
       "\n",
       "   Previous Purchases Preferred Payment Method Frequency of Purchases  \n",
       "0                  14                    Venmo            Fortnightly  \n",
       "1                   2                     Cash            Fortnightly  \n",
       "2                  23              Credit Card                 Weekly  \n",
       "3                  49                   PayPal                 Weekly  \n",
       "4                  31                   PayPal               Annually  "
      ]
     },
     "execution_count": 3,
     "metadata": {},
     "output_type": "execute_result"
    }
   ],
   "source": [
    "data.head(5)"
   ]
  },
  {
   "cell_type": "markdown",
   "id": "d2451fa0-82ff-4c3a-bce7-50896d0a739d",
   "metadata": {},
   "source": [
    "# Range"
   ]
  },
  {
   "cell_type": "markdown",
   "id": "964d087c-037e-48b6-b1d8-12564190d34a",
   "metadata": {},
   "source": [
    "* Range = Max - Min"
   ]
  },
  {
   "cell_type": "code",
   "execution_count": 13,
   "id": "053938ac-4bf4-4750-be66-984faed7923c",
   "metadata": {},
   "outputs": [
    {
     "data": {
      "text/plain": [
       "(18, 70)"
      ]
     },
     "execution_count": 13,
     "metadata": {},
     "output_type": "execute_result"
    }
   ],
   "source": [
    "# to find range of age\n",
    "\n",
    "minimum = data[\"Age\"].min()\n",
    "maximum = data['Age'].max()\n",
    "\n",
    "minimum, maximum"
   ]
  },
  {
   "cell_type": "code",
   "execution_count": 11,
   "id": "9ee445d8-fb8c-49a2-942f-d7bccfcc2a32",
   "metadata": {},
   "outputs": [
    {
     "data": {
      "text/plain": [
       "52"
      ]
     },
     "execution_count": 11,
     "metadata": {},
     "output_type": "execute_result"
    }
   ],
   "source": [
    "range = maximum - minimum\n",
    "range"
   ]
  },
  {
   "cell_type": "markdown",
   "id": "50c72321-b0ab-45af-9bcd-3b1c3aa1839c",
   "metadata": {},
   "source": [
    "* Range of review can be more usefull beacause\n",
    "* Less range : More similarity between response so target can be found easily\n",
    "* More range : Less information gain"
   ]
  },
  {
   "cell_type": "code",
   "execution_count": 14,
   "id": "d8a3ac00-7ee0-4b76-b29f-4050053a3713",
   "metadata": {},
   "outputs": [
    {
     "data": {
      "text/plain": [
       "(2.5, 5.0)"
      ]
     },
     "execution_count": 14,
     "metadata": {},
     "output_type": "execute_result"
    }
   ],
   "source": [
    "min_d = data['Review Rating'].min()\n",
    "max_d = data['Review Rating'].max()\n",
    "min_d , max_d"
   ]
  },
  {
   "cell_type": "code",
   "execution_count": 16,
   "id": "68ac2543-d1dc-44c9-8676-0c1824a8c114",
   "metadata": {},
   "outputs": [
    {
     "data": {
      "text/plain": [
       "2.5"
      ]
     },
     "execution_count": 16,
     "metadata": {},
     "output_type": "execute_result"
    }
   ],
   "source": [
    "range = max_d - min_d\n",
    "range"
   ]
  },
  {
   "cell_type": "markdown",
   "id": "bdc6fea4-de70-48c5-a43f-2640e23fb76b",
   "metadata": {},
   "source": [
    "# Box plot"
   ]
  },
  {
   "cell_type": "code",
   "execution_count": null,
   "id": "68f63938-87c1-43d6-bd06-94c4c621abc8",
   "metadata": {},
   "outputs": [],
   "source": []
  },
  {
   "cell_type": "markdown",
   "id": "acdb011e-f94a-4af2-b044-f19b04e16a44",
   "metadata": {},
   "source": [
    "# Skewness"
   ]
  },
  {
   "cell_type": "markdown",
   "id": "a8be4e22-03cc-46bf-bd04-c4540a66bbc1",
   "metadata": {},
   "source": [
    "* Measures the asymetricity of the data\n",
    "* -ve skewness : left tail is more so : outliers at left side, mean < median < mode (tip of curve)\n",
    "* +ve skewness : right tail more so : outliers at right side, mode < median < mode"
   ]
  },
  {
   "cell_type": "code",
   "execution_count": 28,
   "id": "700521b8-d9f3-4c62-8630-e9736def7ce0",
   "metadata": {},
   "outputs": [
    {
     "data": {
      "text/plain": [
       "dtype('int64')"
      ]
     },
     "execution_count": 28,
     "metadata": {},
     "output_type": "execute_result"
    }
   ],
   "source": [
    "data['Age'].dtype"
   ]
  },
  {
   "cell_type": "code",
   "execution_count": 31,
   "id": "ddf7ed7b-4315-43db-88b1-539cc984e95d",
   "metadata": {},
   "outputs": [
    {
     "data": {
      "text/plain": [
       "<Axes: xlabel='Age', ylabel='Count'>"
      ]
     },
     "execution_count": 31,
     "metadata": {},
     "output_type": "execute_result"
    },
    {
     "data": {
      "image/png": "[encoded data removed]",
      "text/plain": [
       "<Figure size 640x480 with 1 Axes>"
      ]
     },
     "metadata": {},
     "output_type": "display_data"
    }
   ],
   "source": [
    "sns.histplot(x = 'Age', data=data)"
   ]
  },
  {
   "cell_type": "markdown",
   "id": "8091bff2-877c-49d2-8ebc-51b7ab81e1a7",
   "metadata": {},
   "source": [
    "Normal Skew"
   ]
  },
  {
   "cell_type": "code",
   "execution_count": 33,
   "id": "2899eefd-72fb-4142-9816-0585ba05fe04",
   "metadata": {},
   "outputs": [
    {
     "data": {
      "text/plain": [
       "-0.0063797217209905395"
      ]
     },
     "execution_count": 33,
     "metadata": {},
     "output_type": "execute_result"
    }
   ],
   "source": [
    "data['Age'].skew()"
   ]
  },
  {
   "cell_type": "code",
   "execution_count": null,
   "id": "5bc1d7db-3e09-4a3e-a563-6bd895148d7a",
   "metadata": {},
   "outputs": [],
   "source": []
  },
  {
   "cell_type": "code",
   "execution_count": null,
   "id": "f33888eb-8e8b-481b-9ff9-16deda3839af",
   "metadata": {},
   "outputs": [],
   "source": []
  },
  {
   "cell_type": "markdown",
   "id": "1a7d5780-39c3-442a-8fb4-5668b2a737d5",
   "metadata": {},
   "source": [
    "# Practive"
   ]
  },
  {
   "cell_type": "code",
   "execution_count": 5,
   "id": "d8bcb8cf-93a8-49a0-aca9-bf44e1aaa50f",
   "metadata": {},
   "outputs": [
    {
     "data": {
      "text/html": [
       "<div>\n",
       "<style scoped>\n",
       "    .dataframe tbody tr th:only-of-type {\n",
       "        vertical-align: middle;\n",
       "    }\n",
       "\n",
       "    .dataframe tbody tr th {\n",
       "        vertical-align: top;\n",
       "    }\n",
       "\n",
       "    .dataframe thead th {\n",
       "        text-align: right;\n",
       "    }\n",
       "</style>\n",
       "<table border=\"1\" class=\"dataframe\">\n",
       "  <thead>\n",
       "    <tr style=\"text-align: right;\">\n",
       "      <th></th>\n",
       "      <th>Customer ID</th>\n",
       "      <th>Age</th>\n",
       "      <th>Gender</th>\n",
       "      <th>Item Purchased</th>\n",
       "      <th>Category</th>\n",
       "      <th>Purchase Amount (USD)</th>\n",
       "      <th>Location</th>\n",
       "      <th>Size</th>\n",
       "      <th>Color</th>\n",
       "      <th>Season</th>\n",
       "      <th>Review Rating</th>\n",
       "      <th>Subscription Status</th>\n",
       "      <th>Payment Method</th>\n",
       "      <th>Shipping Type</th>\n",
       "      <th>Discount Applied</th>\n",
       "      <th>Promo Code Used</th>\n",
       "      <th>Previous Purchases</th>\n",
       "      <th>Preferred Payment Method</th>\n",
       "      <th>Frequency of Purchases</th>\n",
       "    </tr>\n",
       "  </thead>\n",
       "  <tbody>\n",
       "    <tr>\n",
       "      <th>0</th>\n",
       "      <td>1</td>\n",
       "      <td>55</td>\n",
       "      <td>Male</td>\n",
       "      <td>Blouse</td>\n",
       "      <td>Clothing</td>\n",
       "      <td>53</td>\n",
       "      <td>Kentucky</td>\n",
       "      <td>L</td>\n",
       "      <td>Gray</td>\n",
       "      <td>Winter</td>\n",
       "      <td>3.1</td>\n",
       "      <td>Yes</td>\n",
       "      <td>Credit Card</td>\n",
       "      <td>Express</td>\n",
       "      <td>Yes</td>\n",
       "      <td>Yes</td>\n",
       "      <td>14</td>\n",
       "      <td>Venmo</td>\n",
       "      <td>Fortnightly</td>\n",
       "    </tr>\n",
       "    <tr>\n",
       "      <th>1</th>\n",
       "      <td>2</td>\n",
       "      <td>19</td>\n",
       "      <td>Male</td>\n",
       "      <td>Sweater</td>\n",
       "      <td>Clothing</td>\n",
       "      <td>64</td>\n",
       "      <td>Maine</td>\n",
       "      <td>L</td>\n",
       "      <td>Maroon</td>\n",
       "      <td>Winter</td>\n",
       "      <td>3.1</td>\n",
       "      <td>Yes</td>\n",
       "      <td>Bank Transfer</td>\n",
       "      <td>Express</td>\n",
       "      <td>Yes</td>\n",
       "      <td>Yes</td>\n",
       "      <td>2</td>\n",
       "      <td>Cash</td>\n",
       "      <td>Fortnightly</td>\n",
       "    </tr>\n",
       "    <tr>\n",
       "      <th>2</th>\n",
       "      <td>3</td>\n",
       "      <td>50</td>\n",
       "      <td>Male</td>\n",
       "      <td>Jeans</td>\n",
       "      <td>Clothing</td>\n",
       "      <td>73</td>\n",
       "      <td>Massachusetts</td>\n",
       "      <td>S</td>\n",
       "      <td>Maroon</td>\n",
       "      <td>Spring</td>\n",
       "      <td>3.1</td>\n",
       "      <td>Yes</td>\n",
       "      <td>Cash</td>\n",
       "      <td>Free Shipping</td>\n",
       "      <td>Yes</td>\n",
       "      <td>Yes</td>\n",
       "      <td>23</td>\n",
       "      <td>Credit Card</td>\n",
       "      <td>Weekly</td>\n",
       "    </tr>\n",
       "  </tbody>\n",
       "</table>\n",
       "</div>"
      ],
      "text/plain": [
       "   Customer ID  Age Gender Item Purchased  Category  Purchase Amount (USD)  \\\n",
       "0            1   55   Male         Blouse  Clothing                     53   \n",
       "1            2   19   Male        Sweater  Clothing                     64   \n",
       "2            3   50   Male          Jeans  Clothing                     73   \n",
       "\n",
       "        Location Size   Color  Season  Review Rating Subscription Status  \\\n",
       "0       Kentucky    L    Gray  Winter            3.1                 Yes   \n",
       "1          Maine    L  Maroon  Winter            3.1                 Yes   \n",
       "2  Massachusetts    S  Maroon  Spring            3.1                 Yes   \n",
       "\n",
       "  Payment Method  Shipping Type Discount Applied Promo Code Used  \\\n",
       "0    Credit Card        Express              Yes             Yes   \n",
       "1  Bank Transfer        Express              Yes             Yes   \n",
       "2           Cash  Free Shipping              Yes             Yes   \n",
       "\n",
       "   Previous Purchases Preferred Payment Method Frequency of Purchases  \n",
       "0                  14                    Venmo            Fortnightly  \n",
       "1                   2                     Cash            Fortnightly  \n",
       "2                  23              Credit Card                 Weekly  "
      ]
     },
     "execution_count": 5,
     "metadata": {},
     "output_type": "execute_result"
    }
   ],
   "source": [
    "data = pd.read_csv(\"D:/Data Science/Datasets/shopping_trends.csv\")\n",
    "data.head(3)"
   ]
  },
  {
   "cell_type": "code",
   "execution_count": 21,
   "id": "36f8e372-a60b-4861-8287-fb7b6502c419",
   "metadata": {
    "scrolled": true
   },
   "outputs": [
    {
     "name": "stderr",
     "output_type": "stream",
     "text": [
      "C:\\Users\\Harsh Narayankar\\AppData\\Local\\Temp\\ipykernel_2092\\1124608677.py:1: UserWarning: \n",
      "\n",
      "`distplot` is a deprecated function and will be removed in seaborn v0.14.0.\n",
      "\n",
      "Please adapt your code to use either `displot` (a figure-level function with\n",
      "similar flexibility) or `histplot` (an axes-level function for histograms).\n",
      "\n",
      "For a guide to updating your code to use the new functions, please see\n",
      "https://gist.github.com/mwaskom/de44147ed2974457ad6372750bbe5751\n",
      "\n",
      "  sns.distplot(data['Previous Purchases'])\n"
     ]
    },
    {
     "data": {
      "text/plain": [
       "<Axes: xlabel='Previous Purchases', ylabel='Density'>"
      ]
     },
     "execution_count": 21,
     "metadata": {},
     "output_type": "execute_result"
    },
    {
     "data": {
      "image/png": "[encoded data removed]",
      "text/plain": [
       "<Figure size 640x480 with 1 Axes>"
      ]
     },
     "metadata": {},
     "output_type": "display_data"
    }
   ],
   "source": [
    "sns.distplot(data['Previous Purchases'])"
   ]
  },
  {
   "cell_type": "markdown",
   "id": "d27311a9-648b-4baa-a42f-978059bc62d0",
   "metadata": {},
   "source": [
    "As we can see the data is normally distrubuted so i will use Variance , standart deviation and MAD"
   ]
  },
  {
   "cell_type": "code",
   "execution_count": 23,
   "id": "9509b64f-72b6-42a3-826b-f41d7595d085",
   "metadata": {},
   "outputs": [
    {
     "name": "stdout",
     "output_type": "stream",
     "text": [
      "49\n"
     ]
    }
   ],
   "source": [
    "# First tell use check the range of the spread\n",
    "min_ = np.min(data['Previous Purchases'])\n",
    "max_ = np.max(data['Previous Purchases'])\n",
    "range_ = max_ - min_\n",
    "print(range_)"
   ]
  },
  {
   "cell_type": "code",
   "execution_count": 25,
   "id": "3d50e5d2-eb53-4ef2-94b6-17e6a02bd986",
   "metadata": {
    "scrolled": true
   },
   "outputs": [
    {
     "data": {
      "text/plain": [
       "{'whiskers': [<matplotlib.lines.Line2D at 0x23266d6ae70>,\n",
       "  <matplotlib.lines.Line2D at 0x23266d6b110>],\n",
       " 'caps': [<matplotlib.lines.Line2D at 0x23266d6b3b0>,\n",
       "  <matplotlib.lines.Line2D at 0x23266d6b5f0>],\n",
       " 'boxes': [<matplotlib.lines.Line2D at 0x23266d6ac90>],\n",
       " 'medians': [<matplotlib.lines.Line2D at 0x23266d6b920>],\n",
       " 'fliers': [<matplotlib.lines.Line2D at 0x23266d6bc50>],\n",
       " 'means': []}"
      ]
     },
     "execution_count": 25,
     "metadata": {},
     "output_type": "execute_result"
    },
    {
     "data": {
      "image/png": "[encoded data removed]",
      "text/plain": [
       "<Figure size 640x480 with 1 Axes>"
      ]
     },
     "metadata": {},
     "output_type": "display_data"
    }
   ],
   "source": [
    "# Now lets see if their is any outliers\n",
    "plt.boxplot(data['Previous Purchases'])"
   ]
  },
  {
   "cell_type": "markdown",
   "id": "631b3084-11dd-4d84-9500-9780b05b9bc2",
   "metadata": {},
   "source": [
    "No outliers"
   ]
  },
  {
   "cell_type": "code",
   "execution_count": 26,
   "id": "90a1874d-bbcb-41a7-bff2-5a28743276df",
   "metadata": {},
   "outputs": [
    {
     "data": {
      "text/plain": [
       "0.0031211555127652127"
      ]
     },
     "execution_count": 26,
     "metadata": {},
     "output_type": "execute_result"
    }
   ],
   "source": [
    "# Now see any skewness\n",
    "data['Previous Purchases'].skew()"
   ]
  }
 ],
 "metadata": {
  "kernelspec": {
   "display_name": "Python 3 (ipykernel)",
   "language": "python",
   "name": "python3"
  },
  "language_info": {
   "codemirror_mode": {
    "name": "ipython",
    "version": 3
   },
   "file_extension": ".py",
   "mimetype": "text/x-python",
   "name": "python",
   "nbconvert_exporter": "python",
   "pygments_lexer": "ipython3",
   "version": "3.12.4"
  }
 },
 "nbformat": 4,
 "nbformat_minor": 5
}
