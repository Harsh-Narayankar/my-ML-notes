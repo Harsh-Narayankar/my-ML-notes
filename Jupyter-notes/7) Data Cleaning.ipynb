{
 "cells": [
  {
   "cell_type": "markdown",
   "id": "49784330-f465-4ddf-926f-72c4509f4d60",
   "metadata": {},
   "source": [
    "# 📊 Data Cleansing: Complete Notes\n",
    "\n",
    "## ✅ What is Data Cleansing?\n",
    "\n",
    "**Data Cleansing** (also known as Data Cleaning or Data Scrubbing) is the process of identifying and correcting (or removing) errors and inconsistencies in data to improve its quality.\n",
    "\n",
    "Bad data = Poor decisions. Clean data = Reliable models and accurate results.\n",
    "\n",
    "---\n",
    "\n",
    "## 🧼 Why is Data Cleansing Important?\n",
    "\n",
    "- Removes **duplicate**, **incomplete**, or **inaccurate** records\n",
    "- Improves **data consistency and reliability**\n",
    "- Enhances **model performance** in ML/AI\n",
    "- Prevents **biased insights** in analytics\n",
    "\n",
    "---\n",
    "\n",
    "## 🔍 Common Issues in Raw Data\n",
    "\n",
    "| Issue               | Example                          |\n",
    "|---------------------|----------------------------------|\n",
    "| Missing values       | NaN, Null                        |\n",
    "| Duplicates           | Same row appearing multiple times |\n",
    "| Inconsistent formats | \"USA\", \"U.S.\", \"United States\"  |\n",
    "| Outliers             | Age = 200                        |\n",
    "| Typos/Spelling errors| \"Color\", \"Colour\", \"colr\"        |\n",
    "| Wrong data types     | Date stored as string            |\n",
    "| Noise                | Random or meaningless data       |\n",
    "\n",
    "---\n",
    "\n",
    "## 🛠️ Major Data Cleansing Methods\n",
    "\n",
    "### 1. **Handling Missing Values**\n",
    "\n",
    "#### 🔸 Methods:\n",
    "- `Drop missing`: `df.dropna()`\n",
    "- `Fill with mean/median/mode`: `df.fillna(df['col'].mean())`\n",
    "- `Forward fill`: `df.ffill()`\n",
    "- `Backward fill`: `df.bfill()`\n",
    "- `Interpolate`: `df.interpolate()`\n",
    "- `Predictive imputation` using ML models\n",
    "\n",
    "#### 🔹 When to Use:\n",
    "| Method | Use When |\n",
    "|--------|----------|\n",
    "| Drop | Data is huge and missing rows are few |\n",
    "| Mean/Median | Data is numeric and missing values are random |\n",
    "| Mode | Categorical data |\n",
    "| ffill/bfill | Time-series data with continuity |\n",
    "| Interpolation | Data is sequential (e.g., sensor data) |\n",
    "| Predictive | For sensitive models like healthcare, finance |\n",
    "\n",
    "---\n",
    "\n",
    "### 2. **Removing Duplicates**\n",
    "\n",
    "```python\n",
    "df.drop_duplicates()\n",
    "Removes repeated rows.\n",
    "\n",
    "Especially useful for log data, scraped data, etc.\n",
    "\n",
    "3. Fixing Inconsistent Formatting\n",
    "Convert all text to lowercase: df['col'] = df['col'].str.lower()\n",
    "\n",
    "Strip whitespace: df['col'] = df['col'].str.strip()\n",
    "\n",
    "Replace formats: df['col'].replace({'U.S.': 'USA'})\n",
    "\n",
    "Use for:\n",
    "\n",
    "Standardizing categories (e.g., country names, gender labels)\n",
    "\n",
    "Preparing for grouping, analysis\n",
    "\n",
    "4. Correcting Data Types\n",
    "Use: df.astype(), pd.to_datetime()\n",
    "\n",
    "Strings to dates\n",
    "\n",
    "Float to integer\n",
    "\n",
    "Object to category (for memory optimization)\n",
    "\n",
    "5. Outlier Detection and Treatment\n",
    "Techniques:\n",
    "Z-score: (x - mean)/std > threshold (usually 3)\n",
    "\n",
    "IQR Method: Remove values outside Q1 - 1.5*IQR or Q3 + 1.5*IQR\n",
    "\n",
    "Boxplots: Visual method\n",
    "\n",
    "Domain knowledge: E.g., Human age > 120 is outlier\n",
    "\n",
    "What to do:\n",
    "Remove\n",
    "\n",
    "Cap (clipping to limits)\n",
    "\n",
    "Impute (replace with mean/median)\n",
    "\n",
    "Use log/square root transformation\n",
    "\n",
    "6. Standardization and Normalization\n",
    "Use when features are on different scales (e.g., income in crores, age in years)\n",
    "\n",
    "Methods:\n",
    "MinMaxScaler: Scales between 0-1\n",
    "\n",
    "StandardScaler: Mean = 0, Std = 1\n",
    "\n",
    "RobustScaler: Uses median & IQR (good for outliers)\n",
    "\n",
    "Use before:\n",
    "\n",
    "Distance-based models (KNN, KMeans, SVM)\n",
    "\n",
    "7. Encoding Categorical Values\n",
    "Method\tBest For\n",
    "Label Encoding\tOrdinal data (e.g., Low < Medium < High)\n",
    "One-Hot Encoding\tNominal data (e.g., color, gender)\n",
    "Binary Encoding\tHigh-cardinality data\n",
    "Target Encoding\tWhen data is huge + categorical column affects output\n",
    "\n",
    "python\n",
    "Copy\n",
    "Edit\n",
    "from sklearn.preprocessing import OneHotEncoder\n",
    "8. Text Cleaning (for NLP)\n",
    "Remove punctuation/special characters\n",
    "\n",
    "Lowercase conversion\n",
    "\n",
    "Remove stopwords\n",
    "\n",
    "Lemmatization/Stemming\n",
    "\n",
    "💡 When to Use What?\n",
    "Problem\tBest Method\tWhy\n",
    "Few missing values\tDrop\tWon’t harm overall data\n",
    "Many missing\tImpute\tKeeps data size and patterns\n",
    "Typos in categorical\tMapping or fuzzy match\tAuto-correct errors\n",
    "Outliers in numeric\tIQR/Log Transform\tSmooth effect\n",
    "High-cardinality categorical\tBinary/Target Encoding\tSaves memory & improves model\n",
    "\n",
    "🧠 Pro Tip:\n",
    "Always visualize before cleaning — use:\n",
    "\n",
    "python\n",
    "Copy\n",
    "Edit\n",
    "df.info()\n",
    "df.describe()\n",
    "df.isnull().sum()\n",
    "sns.heatmap(df.isnull())\n",
    "sns.boxplot(df['col'])\n",
    "📦 Summary\n",
    "Data cleansing is not just preprocessing — it’s data quality assurance. A clean dataset:\n",
    "\n",
    "Reduces model bias\n",
    "\n",
    "Increases trust in output\n",
    "\n",
    "Saves time in debugging\n",
    "\n"
   ]
  },
  {
   "cell_type": "code",
   "execution_count": null,
   "id": "5344ce20-b58a-4744-a8e0-8b88bfd76642",
   "metadata": {},
   "outputs": [],
   "source": [
    "import pandas as pd\n",
    "import seaborn as sns\n",
    "import matplotlib.pyplot as plt\n",
    "\n",
    "df = pd.read_csv(r\"D:\\Data Science\\Datasets\\ev.csv\")\n",
    "df.head(5)"
   ]
  },
  {
   "cell_type": "code",
   "execution_count": 42,
   "id": "ee8d3e76-a53d-4550-8a3e-d94385cdfa38",
   "metadata": {},
   "outputs": [
    {
     "data": {
      "text/plain": [
       "region        0\n",
       "category      0\n",
       "parameter     0\n",
       "mode          0\n",
       "powertrain    0\n",
       "year          1\n",
       "unit          1\n",
       "value         1\n",
       "dtype: int64"
      ]
     },
     "execution_count": 42,
     "metadata": {},
     "output_type": "execute_result"
    }
   ],
   "source": [
    "df.isnull().sum()"
   ]
  },
  {
   "cell_type": "markdown",
   "id": "2468beb3-44b4-4850-9f59-4a3a15e819d1",
   "metadata": {},
   "source": [
    "* To know how much percentage of data is na"
   ]
  },
  {
   "cell_type": "code",
   "execution_count": 45,
   "id": "d2cf5215-2869-40fa-b328-7648f7d32500",
   "metadata": {},
   "outputs": [
    {
     "data": {
      "text/plain": [
       "region        0.00000\n",
       "category      0.00000\n",
       "parameter     0.00000\n",
       "mode          0.00000\n",
       "powertrain    0.00000\n",
       "year          0.17452\n",
       "unit          0.17452\n",
       "value         0.17452\n",
       "dtype: float64"
      ]
     },
     "execution_count": 45,
     "metadata": {},
     "output_type": "execute_result"
    }
   ],
   "source": [
    "# in each each column\n",
    "(df.isnull().sum()/df.shape[0])*100"
   ]
  },
  {
   "cell_type": "code",
   "execution_count": 46,
   "id": "fd30bf78-27cc-436e-a756-45bcc0941b2a",
   "metadata": {},
   "outputs": [
    {
     "data": {
      "text/plain": [
       "4.18848167539267"
      ]
     },
     "execution_count": 46,
     "metadata": {},
     "output_type": "execute_result"
    }
   ],
   "source": [
    "# in entire dataset\n",
    "(df.isnull().sum().sum()/df.shape[0]*df.shape[1])*100"
   ]
  },
  {
   "cell_type": "code",
   "execution_count": 47,
   "id": "6878259b-433d-4236-88e8-2e535207c451",
   "metadata": {},
   "outputs": [
    {
     "data": {
      "text/plain": [
       "region        573\n",
       "category      573\n",
       "parameter     573\n",
       "mode          573\n",
       "powertrain    573\n",
       "year          572\n",
       "unit          572\n",
       "value         572\n",
       "dtype: int64"
      ]
     },
     "execution_count": 47,
     "metadata": {},
     "output_type": "execute_result"
    }
   ],
   "source": [
    "# for not null\n",
    "df.notnull().sum()"
   ]
  },
  {
   "cell_type": "code",
   "execution_count": 50,
   "id": "5264003f-7aca-4b21-bddb-dd15111aef3b",
   "metadata": {},
   "outputs": [
    {
     "data": {
      "text/plain": [
       "<Axes: >"
      ]
     },
     "execution_count": 50,
     "metadata": {},
     "output_type": "execute_result"
    },
    {
     "data": {
      "image/png": "[encoded data removed]",
      "text/plain": [
       "<Figure size 640x480 with 2 Axes>"
      ]
     },
     "metadata": {},
     "output_type": "display_data"
    }
   ],
   "source": [
    "sns.heatmap(df.isnull())"
   ]
  },
  {
   "cell_type": "code",
   "execution_count": 67,
   "id": "c1c4fb1f-7a2d-4962-9abf-a24b71833595",
   "metadata": {},
   "outputs": [
    {
     "data": {
      "text/plain": [
       "(array([0, 1, 2, 3, 4, 5, 6, 7]),\n",
       " [Text(0, 0, 'region'),\n",
       "  Text(1, 0, 'category'),\n",
       "  Text(2, 0, 'parameter'),\n",
       "  Text(3, 0, 'mode'),\n",
       "  Text(4, 0, 'powertrain'),\n",
       "  Text(5, 0, 'year'),\n",
       "  Text(6, 0, 'unit'),\n",
       "  Text(7, 0, 'value')])"
      ]
     },
     "execution_count": 67,
     "metadata": {},
     "output_type": "execute_result"
    },
    {
     "data": {
      "image/png": "[encoded data removed]",
      "text/plain": [
       "<Figure size 640x480 with 1 Axes>"
      ]
     },
     "metadata": {},
     "output_type": "display_data"
    }
   ],
   "source": [
    "null_count = df.isnull().sum()\n",
    "null_count.plot(kind='bar')\n",
    "plt.xticks(rotation=90)"
   ]
  },
  {
   "cell_type": "markdown",
   "id": "a2961751-6b86-4a0f-a85a-de1a58d1e911",
   "metadata": {},
   "source": [
    "# Handling Missing data"
   ]
  },
  {
   "cell_type": "markdown",
   "id": "3f383f32-6ea8-4957-bfe6-65e88a6b620e",
   "metadata": {},
   "source": [
    "* We can drop the entire row in which contain na"
   ]
  },
  {
   "cell_type": "code",
   "execution_count": 68,
   "id": "edd7be5f-2150-435a-b973-409ab8cc41fc",
   "metadata": {},
   "outputs": [
    {
     "data": {
      "text/plain": [
       "(573, 8)"
      ]
     },
     "execution_count": 68,
     "metadata": {},
     "output_type": "execute_result"
    }
   ],
   "source": [
    "df.shape"
   ]
  },
  {
   "cell_type": "code",
   "execution_count": 43,
   "id": "8b1dd6d1-c799-494f-a6ae-fd2f922e33ec",
   "metadata": {},
   "outputs": [
    {
     "data": {
      "text/html": [
       "<div>\n",
       "<style scoped>\n",
       "    .dataframe tbody tr th:only-of-type {\n",
       "        vertical-align: middle;\n",
       "    }\n",
       "\n",
       "    .dataframe tbody tr th {\n",
       "        vertical-align: top;\n",
       "    }\n",
       "\n",
       "    .dataframe thead th {\n",
       "        text-align: right;\n",
       "    }\n",
       "</style>\n",
       "<table border=\"1\" class=\"dataframe\">\n",
       "  <thead>\n",
       "    <tr style=\"text-align: right;\">\n",
       "      <th></th>\n",
       "      <th>region</th>\n",
       "      <th>category</th>\n",
       "      <th>parameter</th>\n",
       "      <th>mode</th>\n",
       "      <th>powertrain</th>\n",
       "      <th>year</th>\n",
       "      <th>unit</th>\n",
       "      <th>value</th>\n",
       "    </tr>\n",
       "  </thead>\n",
       "  <tbody>\n",
       "    <tr>\n",
       "      <th>0</th>\n",
       "      <td>Australia</td>\n",
       "      <td>Historical</td>\n",
       "      <td>EV sales</td>\n",
       "      <td>Cars</td>\n",
       "      <td>BEV</td>\n",
       "      <td>2011.0</td>\n",
       "      <td>Vehicles</td>\n",
       "      <td>49.00000</td>\n",
       "    </tr>\n",
       "    <tr>\n",
       "      <th>1</th>\n",
       "      <td>Australia</td>\n",
       "      <td>Historical</td>\n",
       "      <td>EV stock share</td>\n",
       "      <td>Cars</td>\n",
       "      <td>EV</td>\n",
       "      <td>2011.0</td>\n",
       "      <td>percent</td>\n",
       "      <td>0.00039</td>\n",
       "    </tr>\n",
       "    <tr>\n",
       "      <th>2</th>\n",
       "      <td>Australia</td>\n",
       "      <td>Historical</td>\n",
       "      <td>EV sales share</td>\n",
       "      <td>Cars</td>\n",
       "      <td>EV</td>\n",
       "      <td>2011.0</td>\n",
       "      <td>percent</td>\n",
       "      <td>0.00650</td>\n",
       "    </tr>\n",
       "    <tr>\n",
       "      <th>3</th>\n",
       "      <td>Australia</td>\n",
       "      <td>Historical</td>\n",
       "      <td>EV stock</td>\n",
       "      <td>Cars</td>\n",
       "      <td>BEV</td>\n",
       "      <td>2011.0</td>\n",
       "      <td>Vehicles</td>\n",
       "      <td>49.00000</td>\n",
       "    </tr>\n",
       "    <tr>\n",
       "      <th>4</th>\n",
       "      <td>Australia</td>\n",
       "      <td>Historical</td>\n",
       "      <td>EV stock</td>\n",
       "      <td>Cars</td>\n",
       "      <td>BEV</td>\n",
       "      <td>2012.0</td>\n",
       "      <td>Vehicles</td>\n",
       "      <td>220.00000</td>\n",
       "    </tr>\n",
       "    <tr>\n",
       "      <th>...</th>\n",
       "      <td>...</td>\n",
       "      <td>...</td>\n",
       "      <td>...</td>\n",
       "      <td>...</td>\n",
       "      <td>...</td>\n",
       "      <td>...</td>\n",
       "      <td>...</td>\n",
       "      <td>...</td>\n",
       "    </tr>\n",
       "    <tr>\n",
       "      <th>567</th>\n",
       "      <td>China</td>\n",
       "      <td>Historical</td>\n",
       "      <td>EV sales</td>\n",
       "      <td>Cars</td>\n",
       "      <td>BEV</td>\n",
       "      <td>2011.0</td>\n",
       "      <td>Vehicles</td>\n",
       "      <td>4800.00000</td>\n",
       "    </tr>\n",
       "    <tr>\n",
       "      <th>568</th>\n",
       "      <td>China</td>\n",
       "      <td>Historical</td>\n",
       "      <td>EV sales</td>\n",
       "      <td>Cars</td>\n",
       "      <td>PHEV</td>\n",
       "      <td>2011.0</td>\n",
       "      <td>Vehicles</td>\n",
       "      <td>320.00000</td>\n",
       "    </tr>\n",
       "    <tr>\n",
       "      <th>569</th>\n",
       "      <td>China</td>\n",
       "      <td>Historical</td>\n",
       "      <td>EV sales</td>\n",
       "      <td>Cars</td>\n",
       "      <td>PHEV</td>\n",
       "      <td>2012.0</td>\n",
       "      <td>Vehicles</td>\n",
       "      <td>260.00000</td>\n",
       "    </tr>\n",
       "    <tr>\n",
       "      <th>570</th>\n",
       "      <td>China</td>\n",
       "      <td>Historical</td>\n",
       "      <td>EV sales</td>\n",
       "      <td>Cars</td>\n",
       "      <td>BEV</td>\n",
       "      <td>2012.0</td>\n",
       "      <td>Vehicles</td>\n",
       "      <td>9600.00000</td>\n",
       "    </tr>\n",
       "    <tr>\n",
       "      <th>571</th>\n",
       "      <td>China</td>\n",
       "      <td>Historical</td>\n",
       "      <td>EV stock</td>\n",
       "      <td>Cars</td>\n",
       "      <td>BEV</td>\n",
       "      <td>2012.0</td>\n",
       "      <td>Vehicles</td>\n",
       "      <td>16000.00000</td>\n",
       "    </tr>\n",
       "  </tbody>\n",
       "</table>\n",
       "<p>572 rows × 8 columns</p>\n",
       "</div>"
      ],
      "text/plain": [
       "        region    category       parameter  mode powertrain    year      unit  \\\n",
       "0    Australia  Historical        EV sales  Cars        BEV  2011.0  Vehicles   \n",
       "1    Australia  Historical  EV stock share  Cars         EV  2011.0   percent   \n",
       "2    Australia  Historical  EV sales share  Cars         EV  2011.0   percent   \n",
       "3    Australia  Historical        EV stock  Cars        BEV  2011.0  Vehicles   \n",
       "4    Australia  Historical        EV stock  Cars        BEV  2012.0  Vehicles   \n",
       "..         ...         ...             ...   ...        ...     ...       ...   \n",
       "567      China  Historical        EV sales  Cars        BEV  2011.0  Vehicles   \n",
       "568      China  Historical        EV sales  Cars       PHEV  2011.0  Vehicles   \n",
       "569      China  Historical        EV sales  Cars       PHEV  2012.0  Vehicles   \n",
       "570      China  Historical        EV sales  Cars        BEV  2012.0  Vehicles   \n",
       "571      China  Historical        EV stock  Cars        BEV  2012.0  Vehicles   \n",
       "\n",
       "           value  \n",
       "0       49.00000  \n",
       "1        0.00039  \n",
       "2        0.00650  \n",
       "3       49.00000  \n",
       "4      220.00000  \n",
       "..           ...  \n",
       "567   4800.00000  \n",
       "568    320.00000  \n",
       "569    260.00000  \n",
       "570   9600.00000  \n",
       "571  16000.00000  \n",
       "\n",
       "[572 rows x 8 columns]"
      ]
     },
     "execution_count": 43,
     "metadata": {},
     "output_type": "execute_result"
    }
   ],
   "source": [
    "df.dropna()"
   ]
  },
  {
   "cell_type": "markdown",
   "id": "ec3d3a3a-efea-4739-ad52-1d15c6e05a30",
   "metadata": {},
   "source": [
    "For columns which has categorical value"
   ]
  },
  {
   "cell_type": "code",
   "execution_count": null,
   "id": "311644c7-0b7a-4ebb-bffb-fdcdc12c0b5d",
   "metadata": {},
   "outputs": [],
   "source": [
    "df = pd.read_csv(r\"D:\\Data Science\\Datasets\\ev.csv\")"
   ]
  },
  {
   "cell_type": "code",
   "execution_count": 69,
   "id": "28ec9918-a07d-4cce-8708-8869f30b6c51",
   "metadata": {},
   "outputs": [
    {
     "data": {
      "text/plain": [
       "region        0\n",
       "category      0\n",
       "parameter     0\n",
       "mode          0\n",
       "powertrain    0\n",
       "year          1\n",
       "unit          1\n",
       "value         1\n",
       "dtype: int64"
      ]
     },
     "execution_count": 69,
     "metadata": {},
     "output_type": "execute_result"
    }
   ],
   "source": [
    "df.isnull().sum()"
   ]
  },
  {
   "cell_type": "code",
   "execution_count": 71,
   "id": "a9bb0779-94ce-4114-82f1-3953d128bdbc",
   "metadata": {},
   "outputs": [
    {
     "data": {
      "text/html": [
       "<div>\n",
       "<style scoped>\n",
       "    .dataframe tbody tr th:only-of-type {\n",
       "        vertical-align: middle;\n",
       "    }\n",
       "\n",
       "    .dataframe tbody tr th {\n",
       "        vertical-align: top;\n",
       "    }\n",
       "\n",
       "    .dataframe thead th {\n",
       "        text-align: right;\n",
       "    }\n",
       "</style>\n",
       "<table border=\"1\" class=\"dataframe\">\n",
       "  <thead>\n",
       "    <tr style=\"text-align: right;\">\n",
       "      <th></th>\n",
       "      <th>year</th>\n",
       "      <th>value</th>\n",
       "    </tr>\n",
       "  </thead>\n",
       "  <tbody>\n",
       "    <tr>\n",
       "      <th>count</th>\n",
       "      <td>572.000000</td>\n",
       "      <td>572.000000</td>\n",
       "    </tr>\n",
       "    <tr>\n",
       "      <th>mean</th>\n",
       "      <td>2017.225524</td>\n",
       "      <td>10122.122584</td>\n",
       "    </tr>\n",
       "    <tr>\n",
       "      <th>std</th>\n",
       "      <td>3.885378</td>\n",
       "      <td>33753.418404</td>\n",
       "    </tr>\n",
       "    <tr>\n",
       "      <th>min</th>\n",
       "      <td>2010.000000</td>\n",
       "      <td>0.000029</td>\n",
       "    </tr>\n",
       "    <tr>\n",
       "      <th>25%</th>\n",
       "      <td>2014.000000</td>\n",
       "      <td>1.700000</td>\n",
       "    </tr>\n",
       "    <tr>\n",
       "      <th>50%</th>\n",
       "      <td>2017.000000</td>\n",
       "      <td>68.000000</td>\n",
       "    </tr>\n",
       "    <tr>\n",
       "      <th>75%</th>\n",
       "      <td>2021.000000</td>\n",
       "      <td>2425.000000</td>\n",
       "    </tr>\n",
       "    <tr>\n",
       "      <th>max</th>\n",
       "      <td>2023.000000</td>\n",
       "      <td>380000.000000</td>\n",
       "    </tr>\n",
       "  </tbody>\n",
       "</table>\n",
       "</div>"
      ],
      "text/plain": [
       "              year          value\n",
       "count   572.000000     572.000000\n",
       "mean   2017.225524   10122.122584\n",
       "std       3.885378   33753.418404\n",
       "min    2010.000000       0.000029\n",
       "25%    2014.000000       1.700000\n",
       "50%    2017.000000      68.000000\n",
       "75%    2021.000000    2425.000000\n",
       "max    2023.000000  380000.000000"
      ]
     },
     "execution_count": 71,
     "metadata": {},
     "output_type": "execute_result"
    }
   ],
   "source": [
    "df.describe()"
   ]
  },
  {
   "cell_type": "code",
   "execution_count": 72,
   "id": "d462fdb0-4e02-463a-b7cb-5376153c9aef",
   "metadata": {},
   "outputs": [
    {
     "name": "stdout",
     "output_type": "stream",
     "text": [
      "<class 'pandas.core.frame.DataFrame'>\n",
      "RangeIndex: 573 entries, 0 to 572\n",
      "Data columns (total 8 columns):\n",
      " #   Column      Non-Null Count  Dtype  \n",
      "---  ------      --------------  -----  \n",
      " 0   region      573 non-null    object \n",
      " 1   category    573 non-null    object \n",
      " 2   parameter   573 non-null    object \n",
      " 3   mode        573 non-null    object \n",
      " 4   powertrain  573 non-null    object \n",
      " 5   year        572 non-null    float64\n",
      " 6   unit        572 non-null    object \n",
      " 7   value       572 non-null    float64\n",
      "dtypes: float64(2), object(6)\n",
      "memory usage: 35.9+ KB\n"
     ]
    }
   ],
   "source": [
    "df.info()"
   ]
  },
  {
   "cell_type": "code",
   "execution_count": 74,
   "id": "8ec1d648-df57-4e55-8f37-c3f3d3a30ad5",
   "metadata": {},
   "outputs": [
    {
     "data": {
      "text/plain": [
       "0      2011.0\n",
       "1      2011.0\n",
       "2      2011.0\n",
       "3      2011.0\n",
       "4      2012.0\n",
       "        ...  \n",
       "568    2011.0\n",
       "569    2012.0\n",
       "570    2012.0\n",
       "571    2012.0\n",
       "572    2012.0\n",
       "Name: year, Length: 573, dtype: float64"
      ]
     },
     "execution_count": 74,
     "metadata": {},
     "output_type": "execute_result"
    }
   ],
   "source": [
    "# forward fill i.e top data will be feeded forward\n",
    "df['year'].ffill()"
   ]
  },
  {
   "cell_type": "code",
   "execution_count": 75,
   "id": "8816e2c0-a362-4b16-aaa9-1ca2f35b1d10",
   "metadata": {},
   "outputs": [
    {
     "data": {
      "text/plain": [
       "0      2011.0\n",
       "1      2011.0\n",
       "2      2011.0\n",
       "3      2011.0\n",
       "4      2012.0\n",
       "        ...  \n",
       "568    2011.0\n",
       "569    2012.0\n",
       "570    2012.0\n",
       "571    2012.0\n",
       "572       NaN\n",
       "Name: year, Length: 573, dtype: float64"
      ]
     },
     "execution_count": 75,
     "metadata": {},
     "output_type": "execute_result"
    }
   ],
   "source": [
    "df['year'].bfill()"
   ]
  },
  {
   "cell_type": "code",
   "execution_count": 76,
   "id": "867e5f26-0f39-498e-bc3e-8ac9995bb028",
   "metadata": {},
   "outputs": [
    {
     "data": {
      "text/plain": [
       "0      Vehicles\n",
       "1       percent\n",
       "2       percent\n",
       "3      Vehicles\n",
       "4      Vehicles\n",
       "         ...   \n",
       "568    Vehicles\n",
       "569    Vehicles\n",
       "570    Vehicles\n",
       "571    Vehicles\n",
       "572    Vehicles\n",
       "Name: unit, Length: 573, dtype: object"
      ]
     },
     "execution_count": 76,
     "metadata": {},
     "output_type": "execute_result"
    }
   ],
   "source": [
    "# filling most frequent value into the blank\n",
    "df['unit'].fillna(df['unit'].mode()[0])"
   ]
  },
  {
   "cell_type": "code",
   "execution_count": 78,
   "id": "a681f497-4231-4eae-992f-fd0114fbfbf5",
   "metadata": {},
   "outputs": [
    {
     "data": {
      "text/html": [
       "<div>\n",
       "<style scoped>\n",
       "    .dataframe tbody tr th:only-of-type {\n",
       "        vertical-align: middle;\n",
       "    }\n",
       "\n",
       "    .dataframe tbody tr th {\n",
       "        vertical-align: top;\n",
       "    }\n",
       "\n",
       "    .dataframe thead th {\n",
       "        text-align: right;\n",
       "    }\n",
       "</style>\n",
       "<table border=\"1\" class=\"dataframe\">\n",
       "  <thead>\n",
       "    <tr style=\"text-align: right;\">\n",
       "      <th></th>\n",
       "      <th>region</th>\n",
       "      <th>category</th>\n",
       "      <th>parameter</th>\n",
       "      <th>mode</th>\n",
       "      <th>powertrain</th>\n",
       "      <th>unit</th>\n",
       "    </tr>\n",
       "  </thead>\n",
       "  <tbody>\n",
       "    <tr>\n",
       "      <th>0</th>\n",
       "      <td>Australia</td>\n",
       "      <td>Historical</td>\n",
       "      <td>EV sales</td>\n",
       "      <td>Cars</td>\n",
       "      <td>BEV</td>\n",
       "      <td>Vehicles</td>\n",
       "    </tr>\n",
       "    <tr>\n",
       "      <th>1</th>\n",
       "      <td>Australia</td>\n",
       "      <td>Historical</td>\n",
       "      <td>EV stock share</td>\n",
       "      <td>Cars</td>\n",
       "      <td>EV</td>\n",
       "      <td>percent</td>\n",
       "    </tr>\n",
       "    <tr>\n",
       "      <th>2</th>\n",
       "      <td>Australia</td>\n",
       "      <td>Historical</td>\n",
       "      <td>EV sales share</td>\n",
       "      <td>Cars</td>\n",
       "      <td>EV</td>\n",
       "      <td>percent</td>\n",
       "    </tr>\n",
       "    <tr>\n",
       "      <th>3</th>\n",
       "      <td>Australia</td>\n",
       "      <td>Historical</td>\n",
       "      <td>EV stock</td>\n",
       "      <td>Cars</td>\n",
       "      <td>BEV</td>\n",
       "      <td>Vehicles</td>\n",
       "    </tr>\n",
       "    <tr>\n",
       "      <th>4</th>\n",
       "      <td>Australia</td>\n",
       "      <td>Historical</td>\n",
       "      <td>EV stock</td>\n",
       "      <td>Cars</td>\n",
       "      <td>BEV</td>\n",
       "      <td>Vehicles</td>\n",
       "    </tr>\n",
       "    <tr>\n",
       "      <th>...</th>\n",
       "      <td>...</td>\n",
       "      <td>...</td>\n",
       "      <td>...</td>\n",
       "      <td>...</td>\n",
       "      <td>...</td>\n",
       "      <td>...</td>\n",
       "    </tr>\n",
       "    <tr>\n",
       "      <th>568</th>\n",
       "      <td>China</td>\n",
       "      <td>Historical</td>\n",
       "      <td>EV sales</td>\n",
       "      <td>Cars</td>\n",
       "      <td>PHEV</td>\n",
       "      <td>Vehicles</td>\n",
       "    </tr>\n",
       "    <tr>\n",
       "      <th>569</th>\n",
       "      <td>China</td>\n",
       "      <td>Historical</td>\n",
       "      <td>EV sales</td>\n",
       "      <td>Cars</td>\n",
       "      <td>PHEV</td>\n",
       "      <td>Vehicles</td>\n",
       "    </tr>\n",
       "    <tr>\n",
       "      <th>570</th>\n",
       "      <td>China</td>\n",
       "      <td>Historical</td>\n",
       "      <td>EV sales</td>\n",
       "      <td>Cars</td>\n",
       "      <td>BEV</td>\n",
       "      <td>Vehicles</td>\n",
       "    </tr>\n",
       "    <tr>\n",
       "      <th>571</th>\n",
       "      <td>China</td>\n",
       "      <td>Historical</td>\n",
       "      <td>EV stock</td>\n",
       "      <td>Cars</td>\n",
       "      <td>BEV</td>\n",
       "      <td>Vehicles</td>\n",
       "    </tr>\n",
       "    <tr>\n",
       "      <th>572</th>\n",
       "      <td>China</td>\n",
       "      <td>Historical</td>\n",
       "      <td>EV stock</td>\n",
       "      <td>Cars</td>\n",
       "      <td>P</td>\n",
       "      <td>NaN</td>\n",
       "    </tr>\n",
       "  </tbody>\n",
       "</table>\n",
       "<p>573 rows × 6 columns</p>\n",
       "</div>"
      ],
      "text/plain": [
       "        region    category       parameter  mode powertrain      unit\n",
       "0    Australia  Historical        EV sales  Cars        BEV  Vehicles\n",
       "1    Australia  Historical  EV stock share  Cars         EV   percent\n",
       "2    Australia  Historical  EV sales share  Cars         EV   percent\n",
       "3    Australia  Historical        EV stock  Cars        BEV  Vehicles\n",
       "4    Australia  Historical        EV stock  Cars        BEV  Vehicles\n",
       "..         ...         ...             ...   ...        ...       ...\n",
       "568      China  Historical        EV sales  Cars       PHEV  Vehicles\n",
       "569      China  Historical        EV sales  Cars       PHEV  Vehicles\n",
       "570      China  Historical        EV sales  Cars        BEV  Vehicles\n",
       "571      China  Historical        EV stock  Cars        BEV  Vehicles\n",
       "572      China  Historical        EV stock  Cars          P       NaN\n",
       "\n",
       "[573 rows x 6 columns]"
      ]
     },
     "execution_count": 78,
     "metadata": {},
     "output_type": "execute_result"
    }
   ],
   "source": [
    "df.select_dtypes(include='object')"
   ]
  },
  {
   "cell_type": "markdown",
   "id": "fbb462e0-28ce-4723-a08b-8ac446308d10",
   "metadata": {},
   "source": [
    "# Through Scikitlearn"
   ]
  },
  {
   "cell_type": "code",
   "execution_count": 79,
   "id": "059b43ab-ad63-4a6a-ac20-1c25d2f3d860",
   "metadata": {},
   "outputs": [
    {
     "name": "stdout",
     "output_type": "stream",
     "text": [
      "<class 'pandas.core.frame.DataFrame'>\n",
      "RangeIndex: 573 entries, 0 to 572\n",
      "Data columns (total 8 columns):\n",
      " #   Column      Non-Null Count  Dtype  \n",
      "---  ------      --------------  -----  \n",
      " 0   region      573 non-null    object \n",
      " 1   category    573 non-null    object \n",
      " 2   parameter   573 non-null    object \n",
      " 3   mode        573 non-null    object \n",
      " 4   powertrain  573 non-null    object \n",
      " 5   year        572 non-null    float64\n",
      " 6   unit        572 non-null    object \n",
      " 7   value       572 non-null    float64\n",
      "dtypes: float64(2), object(6)\n",
      "memory usage: 35.9+ KB\n"
     ]
    }
   ],
   "source": [
    "df.info()"
   ]
  },
  {
   "cell_type": "code",
   "execution_count": 84,
   "id": "a565d06a-9d1b-4708-9d88-a6205b37fcc5",
   "metadata": {},
   "outputs": [
    {
     "data": {
      "text/plain": [
       "Index(['year', 'value'], dtype='object')"
      ]
     },
     "execution_count": 84,
     "metadata": {},
     "output_type": "execute_result"
    }
   ],
   "source": [
    "df.select_dtypes(include='float64').columns"
   ]
  },
  {
   "cell_type": "code",
   "execution_count": 85,
   "id": "3365b412-e68d-44ed-9a38-47a1a7aa39f6",
   "metadata": {},
   "outputs": [],
   "source": [
    "# for using scikit learn, we need call lybraries of it\n",
    "from sklearn.impute import SimpleImputer"
   ]
  },
  {
   "cell_type": "code",
   "execution_count": 88,
   "id": "c84755b7-8254-4996-bce2-a21e94fc7897",
   "metadata": {},
   "outputs": [],
   "source": [
    "# press tab + shift then read all, and call what you want\n",
    "si = SimpleImputer(strategy = 'mean')"
   ]
  },
  {
   "cell_type": "code",
   "execution_count": 92,
   "id": "937fbb15-0c95-4ca4-a3b7-3c93368d03b7",
   "metadata": {},
   "outputs": [
    {
     "data": {
      "text/plain": [
       "array([[2.01100000e+03, 4.90000000e+01],\n",
       "       [2.01100000e+03, 3.90000001e-04],\n",
       "       [2.01100000e+03, 6.50000013e-03],\n",
       "       ...,\n",
       "       [2.01200000e+03, 9.60000000e+03],\n",
       "       [2.01200000e+03, 1.60000000e+04],\n",
       "       [2.01722552e+03, 1.01221226e+04]])"
      ]
     },
     "execution_count": 92,
     "metadata": {},
     "output_type": "execute_result"
    }
   ],
   "source": [
    "si.fit_transform(df[['year', 'value']])"
   ]
  },
  {
   "cell_type": "markdown",
   "id": "da4b529f-9e66-45ef-a856-5d0d22a2f9ce",
   "metadata": {},
   "source": [
    "Now we have fill the mean values and the result is in the array, we need to convert that into an arrays"
   ]
  },
  {
   "cell_type": "code",
   "execution_count": 94,
   "id": "cf9de454-75f7-4ef6-89a1-25e3aeff4585",
   "metadata": {},
   "outputs": [],
   "source": [
    "ar = si.fit_transform(df[['year', 'value']])"
   ]
  },
  {
   "cell_type": "code",
   "execution_count": 100,
   "id": "a57e6002-4835-4cb6-af11-d8d928b50bce",
   "metadata": {},
   "outputs": [
    {
     "data": {
      "text/html": [
       "<div>\n",
       "<style scoped>\n",
       "    .dataframe tbody tr th:only-of-type {\n",
       "        vertical-align: middle;\n",
       "    }\n",
       "\n",
       "    .dataframe tbody tr th {\n",
       "        vertical-align: top;\n",
       "    }\n",
       "\n",
       "    .dataframe thead th {\n",
       "        text-align: right;\n",
       "    }\n",
       "</style>\n",
       "<table border=\"1\" class=\"dataframe\">\n",
       "  <thead>\n",
       "    <tr style=\"text-align: right;\">\n",
       "      <th></th>\n",
       "      <th>year</th>\n",
       "      <th>value</th>\n",
       "    </tr>\n",
       "  </thead>\n",
       "  <tbody>\n",
       "    <tr>\n",
       "      <th>0</th>\n",
       "      <td>2011.000000</td>\n",
       "      <td>49.000000</td>\n",
       "    </tr>\n",
       "    <tr>\n",
       "      <th>1</th>\n",
       "      <td>2011.000000</td>\n",
       "      <td>0.000390</td>\n",
       "    </tr>\n",
       "    <tr>\n",
       "      <th>2</th>\n",
       "      <td>2011.000000</td>\n",
       "      <td>0.006500</td>\n",
       "    </tr>\n",
       "    <tr>\n",
       "      <th>3</th>\n",
       "      <td>2011.000000</td>\n",
       "      <td>49.000000</td>\n",
       "    </tr>\n",
       "    <tr>\n",
       "      <th>4</th>\n",
       "      <td>2012.000000</td>\n",
       "      <td>220.000000</td>\n",
       "    </tr>\n",
       "    <tr>\n",
       "      <th>...</th>\n",
       "      <td>...</td>\n",
       "      <td>...</td>\n",
       "    </tr>\n",
       "    <tr>\n",
       "      <th>568</th>\n",
       "      <td>2011.000000</td>\n",
       "      <td>320.000000</td>\n",
       "    </tr>\n",
       "    <tr>\n",
       "      <th>569</th>\n",
       "      <td>2012.000000</td>\n",
       "      <td>260.000000</td>\n",
       "    </tr>\n",
       "    <tr>\n",
       "      <th>570</th>\n",
       "      <td>2012.000000</td>\n",
       "      <td>9600.000000</td>\n",
       "    </tr>\n",
       "    <tr>\n",
       "      <th>571</th>\n",
       "      <td>2012.000000</td>\n",
       "      <td>16000.000000</td>\n",
       "    </tr>\n",
       "    <tr>\n",
       "      <th>572</th>\n",
       "      <td>2017.225524</td>\n",
       "      <td>10122.122584</td>\n",
       "    </tr>\n",
       "  </tbody>\n",
       "</table>\n",
       "<p>573 rows × 2 columns</p>\n",
       "</div>"
      ],
      "text/plain": [
       "            year         value\n",
       "0    2011.000000     49.000000\n",
       "1    2011.000000      0.000390\n",
       "2    2011.000000      0.006500\n",
       "3    2011.000000     49.000000\n",
       "4    2012.000000    220.000000\n",
       "..           ...           ...\n",
       "568  2011.000000    320.000000\n",
       "569  2012.000000    260.000000\n",
       "570  2012.000000   9600.000000\n",
       "571  2012.000000  16000.000000\n",
       "572  2017.225524  10122.122584\n",
       "\n",
       "[573 rows x 2 columns]"
      ]
     },
     "execution_count": 100,
     "metadata": {},
     "output_type": "execute_result"
    }
   ],
   "source": [
    "data = pd.DataFrame(ar, columns = df.select_dtypes(include='float64').columns)\n",
    "data"
   ]
  },
  {
   "cell_type": "code",
   "execution_count": 101,
   "id": "9c05eac4-6602-4083-86a8-15159b315def",
   "metadata": {},
   "outputs": [
    {
     "data": {
      "text/plain": [
       "year     0\n",
       "value    0\n",
       "dtype: int64"
      ]
     },
     "execution_count": 101,
     "metadata": {},
     "output_type": "execute_result"
    }
   ],
   "source": [
    "data.isnull().sum()"
   ]
  },
  {
   "cell_type": "markdown",
   "id": "3f85ef31-5590-4246-ad73-3e8d28e8fd39",
   "metadata": {},
   "source": [
    "The above process is used when we are deploying ml pipline where in the new data should autometically be filled (where traditional method of fillna wont work"
   ]
  },
  {
   "cell_type": "code",
   "execution_count": null,
   "id": "21c8d6d8-ad92-46d0-b1e2-9c1d8eb2c4d4",
   "metadata": {},
   "outputs": [],
   "source": []
  }
 ],
 "metadata": {
  "kernelspec": {
   "display_name": "Python 3 (ipykernel)",
   "language": "python",
   "name": "python3"
  },
  "language_info": {
   "codemirror_mode": {
    "name": "ipython",
    "version": 3
   },
   "file_extension": ".py",
   "mimetype": "text/x-python",
   "name": "python",
   "nbconvert_exporter": "python",
   "pygments_lexer": "ipython3",
   "version": "3.12.4"
  }
 },
 "nbformat": 4,
 "nbformat_minor": 5
}
