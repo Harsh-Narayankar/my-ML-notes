{
 "cells": [
  {
   "cell_type": "markdown",
   "id": "624b908f-1d62-4b2c-8a78-6c113fc729fa",
   "metadata": {},
   "source": [
    "# Hypothesis Testing"
   ]
  },
  {
   "cell_type": "markdown",
   "id": "15598978-5876-47a2-b36d-416316056d41",
   "metadata": {},
   "source": [
    "* 🧪 What is Hypothesis Testing in Data Science?\n",
    "Hypothesis testing is a statistical method used in data science to make inferences or decisions about a population based on a sample of data.\n",
    "\n",
    "It helps you answer questions like:\n",
    "\n",
    "\"Is this new marketing strategy better than the old one?\"\n",
    "\"Does this drug actually improve recovery?\"\n",
    "\"Is the mean user rating really above 4.0?\"\n",
    "\n",
    "🧠 The Core Idea\n",
    "You start with two competing hypotheses:\n",
    "\n",
    "Null Hypothesis (H₀):\n",
    "A default statement that there is no effect, no difference, or no relationship.\n",
    "\n",
    "Example: \"There is no difference between the means of group A and group B.\"\n",
    "\n",
    "Alternative Hypothesis (H₁ or Ha):\n",
    "What you want to test or prove — that there is a difference or effect.\n",
    "\n",
    "Example: \"Group A has a higher mean than group B.\"\n",
    "\n",
    "🧮 Basic Steps in Hypothesis Testing\n",
    "Formulate Hypotheses\n",
    "\n",
    "H₀: No change, no effect\n",
    "\n",
    "H₁: There is a change or effect\n",
    "\n",
    "Choose Significance Level (α)\n",
    "\n",
    "Common values: 0.05, 0.01, or 0.10\n",
    "\n",
    "This is the probability of rejecting H₀ when it's actually true (Type I error)\n",
    "\n",
    "Select a Test\n",
    "\n",
    "T-test: Comparing means\n",
    "\n",
    "Chi-square test: Comparing categories\n",
    "\n",
    "ANOVA: Comparing means across multiple groups\n",
    "\n",
    "Z-test: Similar to t-test, used for large samples\n",
    "\n",
    "Calculate p-value\n",
    "\n",
    "The probability of getting your observed result (or more extreme) assuming H₀ is true\n",
    "\n",
    "Make Decision\n",
    "\n",
    "If p-value ≤ α → Reject H₀ → There is statistically significant evidence\n",
    "\n",
    "If p-value > α → Fail to reject H₀ → Not enough evidence\n",
    "\n",
    "🧑‍💻 Real Example (A/B Testing):\n",
    "Goal: You launch a new website layout (B) and want to see if it increases conversion compared to the old one (A).\n",
    "\n",
    "H₀: Conversion rate of A = B\n",
    "\n",
    "H₁: Conversion rate of B > A\n",
    "\n",
    "Perform a proportion z-test\n",
    "\n",
    "If p-value < 0.05, you conclude layout B is better\n",
    "\n",
    "📊 Why Hypothesis Testing Matters in Data Science\n",
    "Evaluates models, experiments, user behavior\n",
    "\n",
    "Supports A/B testing, clinical trials, marketing analysis\n",
    "\n",
    "Makes data-driven decisions with controlled error\n",
    "\n",
    "If you'd like, I can walk you through a step-by-step Python example using real or mock data.\n",
    "\n",
    "\n",
    "\n",
    "\n",
    "\n",
    "\n"
   ]
  },
  {
   "cell_type": "markdown",
   "id": "023f91fe-4386-47cc-97c9-4593d0a4c4a5",
   "metadata": {},
   "source": [
    "Steps of hypothesis testing\n",
    "1) State H0 and H1\n",
    "2) Chooose level of significance (a)\n",
    "3) Find critical values\n",
    "4) Find test statistic\n",
    "5) Draw your conclusion"
   ]
  },
  {
   "cell_type": "markdown",
   "id": "8a58f1c4-4ac2-4aba-a128-3a3ed6b77e38",
   "metadata": {},
   "source": [
    "We need to do it manually and can get the z value using, scipy.stats as st"
   ]
  },
  {
   "cell_type": "code",
   "execution_count": 5,
   "id": "66a13b35-eb64-4c98-a592-54b223df14d9",
   "metadata": {},
   "outputs": [],
   "source": [
    "import scipy.stats as st\n",
    "import numpy as np"
   ]
  },
  {
   "cell_type": "code",
   "execution_count": 4,
   "id": "a14d23cd-afce-4171-b08f-d06f91fdb3d0",
   "metadata": {},
   "outputs": [],
   "source": [
    "x_bar = 90\n",
    "u_bar = 82\n",
    "p_sd = 20\n",
    "n = 81"
   ]
  },
  {
   "cell_type": "markdown",
   "id": "1602437b-9c84-48ed-9ba8-55b9ca37d958",
   "metadata": {},
   "source": [
    "z_test = (x-u)/(sd/root(n))"
   ]
  },
  {
   "cell_type": "code",
   "execution_count": 7,
   "id": "8526f07b-60c5-445b-85f4-ebfe9894ad79",
   "metadata": {},
   "outputs": [
    {
     "data": {
      "text/plain": [
       "3.5999999999999996"
      ]
     },
     "execution_count": 7,
     "metadata": {},
     "output_type": "execute_result"
    }
   ],
   "source": [
    "z_test = (x_bar-u_bar)/(p_sd/np.sqrt(n))\n",
    "z_test"
   ]
  },
  {
   "cell_type": "code",
   "execution_count": 9,
   "id": "5cd8aa67-8462-405f-89d0-45290179356d",
   "metadata": {},
   "outputs": [
    {
     "data": {
      "text/plain": [
       "1.6448536269514722"
      ]
     },
     "execution_count": 9,
     "metadata": {},
     "output_type": "execute_result"
    }
   ],
   "source": [
    "z_table = st.norm.ppf(0.95)\n",
    "z_table"
   ]
  },
  {
   "cell_type": "code",
   "execution_count": 11,
   "id": "d311ce9a-207d-40d4-94ae-3c70418b6161",
   "metadata": {},
   "outputs": [
    {
     "name": "stdout",
     "output_type": "stream",
     "text": [
      "H0 is False: Claim is True\n"
     ]
    }
   ],
   "source": [
    "if z_table < z_test:\n",
    "    print(\"H0 is False: Claim is True\")\n",
    "else:\n",
    "    print(\"H0 is True: Claim is False\")"
   ]
  }
 ],
 "metadata": {
  "kernelspec": {
   "display_name": "Python 3 (ipykernel)",
   "language": "python",
   "name": "python3"
  },
  "language_info": {
   "codemirror_mode": {
    "name": "ipython",
    "version": 3
   },
   "file_extension": ".py",
   "mimetype": "text/x-python",
   "name": "python",
   "nbconvert_exporter": "python",
   "pygments_lexer": "ipython3",
   "version": "3.12.4"
  }
 },
 "nbformat": 4,
 "nbformat_minor": 5
}
