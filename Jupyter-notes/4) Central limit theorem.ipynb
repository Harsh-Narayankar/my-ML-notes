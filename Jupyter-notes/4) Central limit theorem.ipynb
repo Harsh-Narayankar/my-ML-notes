{
 "cells": [
  {
   "cell_type": "markdown",
   "id": "b00f4df9-e078-43c8-802b-fb421d2decee",
   "metadata": {},
   "source": [
    "# 📊 Central Limit Theorem (CLT)\n",
    "\n",
    "---\n",
    "\n",
    "## 🧠 What is the Central Limit Theorem?\n",
    "\n",
    "The **Central Limit Theorem (CLT)** states that:\n",
    "\n",
    "> When you take a sufficiently large number of **random samples** from any population (regardless of its distribution), the **sampling distribution of the sample mean** will be approximately **normally distributed**, **provided** the sample size is large enough.\n",
    "\n",
    "---\n",
    "\n",
    "## 📌 Key Concepts\n",
    "\n",
    "- The population **does not have to be normal**.\n",
    "- The **distribution of sample means** becomes **normal** as sample size `n` increases.\n",
    "- The **mean** of the sampling distribution = population mean `μ`.\n",
    "- The **standard deviation** of the sampling distribution = **standard error (SE)**.\n",
    "\n",
    "---\n",
    "\n",
    "## 🧮 Standard Error (SE)\n",
    "\n",
    "```text\n",
    "SE = σ / √n\n",
    "\n",
    "Where:\n",
    "\n",
    "σ = population standard deviation\n",
    "\n",
    "n = sample size\n",
    "\n",
    "As n increases, SE decreases → estimates become more precise.\n",
    "\n",
    "🎯 When Does CLT Apply?\n",
    "Sample size n ≥ 30 is typically sufficient (rule of thumb)\n",
    "\n",
    "Works even if:\n",
    "\n",
    "Population is skewed\n",
    "\n",
    "Population is uniform\n",
    "\n",
    "Population is bimodal\n",
    "\n",
    "📈 Visual Intuition\n",
    "Take multiple samples from any distribution (e.g., exponential, binomial)\n",
    "\n",
    "Plot the mean of each sample.\n",
    "\n",
    "As the number of samples increases, the shape becomes normal.\n",
    "\n",
    "📍 Why CLT Matters (Real-World Usage)\n",
    "Field\tUse Case\n",
    "Polling\tEstimating election results using surveys\n",
    "Manufacturing\tQuality control using sample testing\n",
    "Finance\tRisk modeling and return forecasting\n",
    "Medicine\tEstimating treatment effect from samples\n",
    "A/B Testing\tWeb optimization, marketing performance\n",
    "\n",
    "✅ Practical Implications\n",
    "Enables use of z-scores, confidence intervals, and hypothesis testing even when population is not normal.\n",
    "\n",
    "Forms the foundation for many statistical inference methods.\n",
    "\n",
    "⚠️ Important Notes\n",
    "Works best with random, independent samples.\n",
    "\n",
    "Larger sample sizes lead to better approximations.\n",
    "\n",
    "If population is heavily skewed or has outliers → consider even larger n.\n",
    "\n",
    "🧪 Summary\n",
    "Component\tValue\n",
    "Sampling Distribution Shape\tApproaches Normal as n ↑\n",
    "Mean of Sample Means\tEqual to Population Mean μ\n",
    "SD of Sample Means (SE)\tσ / √n"
   ]
  },
  {
   "cell_type": "code",
   "execution_count": 26,
   "id": "cd7ed180-f7f4-4f73-88d2-84052af4c91c",
   "metadata": {},
   "outputs": [],
   "source": [
    "import numpy as np\n",
    "import pandas as pd\n",
    "import seaborn as sns\n",
    "import matplotlib.pyplot as plt"
   ]
  },
  {
   "cell_type": "code",
   "execution_count": 30,
   "id": "aee2cf7c-09b6-4adc-bd1f-101b386703d4",
   "metadata": {},
   "outputs": [
    {
     "data": {
      "text/html": [
       "<div>\n",
       "<style scoped>\n",
       "    .dataframe tbody tr th:only-of-type {\n",
       "        vertical-align: middle;\n",
       "    }\n",
       "\n",
       "    .dataframe tbody tr th {\n",
       "        vertical-align: top;\n",
       "    }\n",
       "\n",
       "    .dataframe thead th {\n",
       "        text-align: right;\n",
       "    }\n",
       "</style>\n",
       "<table border=\"1\" class=\"dataframe\">\n",
       "  <thead>\n",
       "    <tr style=\"text-align: right;\">\n",
       "      <th></th>\n",
       "      <th>Population Data</th>\n",
       "    </tr>\n",
       "  </thead>\n",
       "  <tbody>\n",
       "    <tr>\n",
       "      <th>0</th>\n",
       "      <td>58</td>\n",
       "    </tr>\n",
       "    <tr>\n",
       "      <th>1</th>\n",
       "      <td>67</td>\n",
       "    </tr>\n",
       "    <tr>\n",
       "      <th>2</th>\n",
       "      <td>68</td>\n",
       "    </tr>\n",
       "    <tr>\n",
       "      <th>3</th>\n",
       "      <td>15</td>\n",
       "    </tr>\n",
       "    <tr>\n",
       "      <th>4</th>\n",
       "      <td>82</td>\n",
       "    </tr>\n",
       "    <tr>\n",
       "      <th>...</th>\n",
       "      <td>...</td>\n",
       "    </tr>\n",
       "    <tr>\n",
       "      <th>9995</th>\n",
       "      <td>63</td>\n",
       "    </tr>\n",
       "    <tr>\n",
       "      <th>9996</th>\n",
       "      <td>24</td>\n",
       "    </tr>\n",
       "    <tr>\n",
       "      <th>9997</th>\n",
       "      <td>97</td>\n",
       "    </tr>\n",
       "    <tr>\n",
       "      <th>9998</th>\n",
       "      <td>95</td>\n",
       "    </tr>\n",
       "    <tr>\n",
       "      <th>9999</th>\n",
       "      <td>43</td>\n",
       "    </tr>\n",
       "  </tbody>\n",
       "</table>\n",
       "<p>10000 rows × 1 columns</p>\n",
       "</div>"
      ],
      "text/plain": [
       "      Population Data\n",
       "0                  58\n",
       "1                  67\n",
       "2                  68\n",
       "3                  15\n",
       "4                  82\n",
       "...               ...\n",
       "9995               63\n",
       "9996               24\n",
       "9997               97\n",
       "9998               95\n",
       "9999               43\n",
       "\n",
       "[10000 rows x 1 columns]"
      ]
     },
     "execution_count": 30,
     "metadata": {},
     "output_type": "execute_result"
    }
   ],
   "source": [
    "# generating 10000 random data \n",
    "population_data = [np.random.randint(10,100) for i in range (10000)]\n",
    "\n",
    "# storing this into an dataframe\n",
    "df = pd.DataFrame({'Population Data': population_data})\n",
    "df"
   ]
  },
  {
   "cell_type": "code",
   "execution_count": 40,
   "id": "efc25e07-fff2-4604-a066-90225b86e568",
   "metadata": {},
   "outputs": [
    {
     "data": {
      "image/png": "[encoded data removed]",
      "text/plain": [
       "<Figure size 300x200 with 1 Axes>"
      ]
     },
     "metadata": {},
     "output_type": "display_data"
    }
   ],
   "source": [
    "plt.figure(figsize=(3,2))\n",
    "sns.kdeplot(x='Population Data', data=df)\n",
    "plt.show()"
   ]
  },
  {
   "cell_type": "markdown",
   "id": "09121642-99d1-4912-bad0-a13e9dc10b93",
   "metadata": {},
   "source": [
    "So now we need to\n",
    "* pick data < 10%\n",
    "* and more the 30 values"
   ]
  },
  {
   "cell_type": "code",
   "execution_count": 41,
   "id": "975270fb-d93c-468c-9852-7eba7da92fc3",
   "metadata": {},
   "outputs": [
    {
     "data": {
      "text/plain": [
       "1000.0"
      ]
     },
     "execution_count": 41,
     "metadata": {},
     "output_type": "execute_result"
    }
   ],
   "source": [
    "# 10% is \n",
    "(10000*10)/100"
   ]
  },
  {
   "cell_type": "code",
   "execution_count": 51,
   "id": "42cee410-0bc3-4c22-83e7-f090de4fcf4f",
   "metadata": {},
   "outputs": [],
   "source": [
    "sample_mean=[]\n",
    "for no_sample in range (70):\n",
    "    sample_data = []\n",
    "    for data in range (500):\n",
    "        sample_data.append(np.random.choice(population_data))\n",
    "    sample_mean.append(np.mean(sample_data))"
   ]
  },
  {
   "cell_type": "code",
   "execution_count": 52,
   "id": "12ca6187-b7e7-4784-83a6-671212ca6f15",
   "metadata": {},
   "outputs": [],
   "source": [
    "sample_M = pd.DataFrame({\"Sample_Mean\": sample_mean})"
   ]
  },
  {
   "cell_type": "code",
   "execution_count": 53,
   "id": "82aac7fb-5ed4-49a1-aadc-e51b03a3b8db",
   "metadata": {},
   "outputs": [
    {
     "data": {
      "text/plain": [
       "<Axes: xlabel='Sample_Mean', ylabel='Density'>"
      ]
     },
     "execution_count": 53,
     "metadata": {},
     "output_type": "execute_result"
    },
    {
     "data": {
      "image/png": "[encoded data removed]",
      "text/plain": [
       "<Figure size 640x480 with 1 Axes>"
      ]
     },
     "metadata": {},
     "output_type": "display_data"
    }
   ],
   "source": [
    "sns.kdeplot(x=\"Sample_Mean\", data = sample_M)"
   ]
  },
  {
   "cell_type": "code",
   "execution_count": 58,
   "id": "5ace1783-49b4-4794-813c-fa73132e7c67",
   "metadata": {},
   "outputs": [
    {
     "name": "stdout",
     "output_type": "stream",
     "text": [
      "To compare means\n",
      "Population mean 54.8857\n",
      "Sample mean 54.832\n"
     ]
    }
   ],
   "source": [
    "print(\"To compare means\")\n",
    "print(\"Population mean\", np.mean(population_data))\n",
    "print(\"Sample mean\", np.mean(sample_data))"
   ]
  },
  {
   "cell_type": "markdown",
   "id": "2d216252-92b4-4132-a0df-8faab594c25f",
   "metadata": {},
   "source": [
    "The Central Limit Theorem (CLT) is one of the most powerful concepts in statistics — and it has huge real-world applications, especially in data analysis, quality control, polling, and machine learning.\n",
    "\n",
    "🧠 What is the Central Limit Theorem (CLT)?\n",
    "No matter what the shape of the original population distribution is (skewed, uniform, etc.), the distribution of the sample means will tend to be normal (bell-shaped) as the sample size increases (n ≥ 30 is often enough).\n",
    "\n",
    "📌 Real-World Conclusions and Uses of CLT\n",
    "✅ 1. You Can Use the Normal Distribution Even If Population Is Not Normal\n",
    "Conclusion: In most practical cases, you can treat averages of samples as coming from a normal distribution — even if the data itself is not normal.\n",
    "\n",
    "Use: This allows you to apply powerful tools like confidence intervals, Z-tests, and t-tests.\n",
    "\n",
    "✅ 2. Small Sample Averages Are Reliable\n",
    "Conclusion: You don't need data from the full population — sample means are good approximations of the population mean.\n",
    "\n",
    "Use: Used in:\n",
    "\n",
    "Opinion polls (e.g., election surveys)\n",
    "\n",
    "Product quality testing (e.g., test 100 products from a batch of 10,000)\n",
    "\n",
    "Clinical trials (you don’t test the drug on everyone)\n",
    "\n",
    "✅ 3. Enables Confidence Intervals and Hypothesis Testing\n",
    "Conclusion: Because sample means follow a normal distribution, you can construct:\n",
    "\n",
    "Confidence intervals for estimating population parameters.\n",
    "\n",
    "Hypothesis tests for decision-making.\n",
    "\n",
    "Use: Used in business decisions, medical studies, A/B testing in marketing and websites.\n",
    "\n",
    "✅ 4. Prediction and Risk Estimation\n",
    "Conclusion: You can estimate risk and error margins accurately when predicting from sample data.\n",
    "\n",
    "Use: Finance (estimating average returns), insurance (risk modeling), etc.\n",
    "\n",
    "✅ 5. Sampling Distributions Become More Stable\n",
    "Conclusion: The larger the sample, the closer the sample mean is to the true population mean.\n",
    "\n",
    "Use: Helps in:\n",
    "\n",
    "Designing efficient surveys\n",
    "\n",
    "Deciding how many people/products to sample\n",
    "\n",
    "📊 Example:\n",
    "Say you're a factory manager. You can:\n",
    "\n",
    "Sample 30 widgets per hour,\n",
    "\n",
    "Use CLT to assume the average weight follows a normal distribution,\n",
    "\n",
    "Detect if a machine is off-target, even without inspecting every widget.\n",
    "\n",
    "⚠️ When CLT Might Not Apply Directly:\n",
    "Very small sample sizes (n < 30) with heavily skewed or outlier-heavy data.\n",
    "\n",
    "Non-independent samples (e.g., time series, auto-correlated data).\n",
    "\n",
    "Use bootstrapping or t-distribution in such cases.\n",
    "\n",
    "🔑 Final Thought:\n",
    "CLT allows you to generalize from a small group to a whole population with mathematical confidence — it powers most of modern statistics.\n",
    "\n",
    "Let me know if you want visual explanation or an application in a specific field (e.g., marketing, medicine, finance, etc.)!"
   ]
  }
 ],
 "metadata": {
  "kernelspec": {
   "display_name": "Python 3 (ipykernel)",
   "language": "python",
   "name": "python3"
  },
  "language_info": {
   "codemirror_mode": {
    "name": "ipython",
    "version": 3
   },
   "file_extension": ".py",
   "mimetype": "text/x-python",
   "name": "python",
   "nbconvert_exporter": "python",
   "pygments_lexer": "ipython3",
   "version": "3.12.4"
  }
 },
 "nbformat": 4,
 "nbformat_minor": 5
}
