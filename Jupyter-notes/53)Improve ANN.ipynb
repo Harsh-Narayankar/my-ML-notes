{
 "cells": [
  {
   "cell_type": "markdown",
   "id": "4db6189d-c78c-4cc4-85b5-591ecf383510",
   "metadata": {},
   "source": [
    "# Improve performance of neural network"
   ]
  },
  {
   "cell_type": "markdown",
   "id": "f6dfc425-ece4-4942-896c-fb5a1a69e3c0",
   "metadata": {},
   "source": [
    "**Problems may causing less acuracy**\n",
    "* Hyperparameters\n",
    "  * No. of hidden layer\n",
    "  * No. of node (this should be piramid)\n",
    "  * Activation function (generally hidden layer has ReLU and for output is depends)\n",
    "  * Loss function\n",
    "  * Optimiser\n",
    "  * Batch size\n",
    "  * No. of epoch\n",
    "  * Learning rate\n",
    "    \n",
    "<br>\n",
    "\n",
    "* Vanishing / Exploding gradient (ie stuck on local minima)\n",
    "  * Optimiser\n",
    "  * Chaning intial weights\n",
    "  * Batch normalisation\n",
    "\n",
    "<br>\n",
    "\n",
    "* Data (We need large data)\n",
    "  * If we dont have much data the we need to create data thorugh *transfer learning*\n",
    "\n",
    "<br>\n",
    "    \n",
    "* Slow training\n",
    "\n",
    "<br>\n",
    "  \n",
    "* Overfitting\n",
    "  * L1 and L2 regulisation\n",
    "  * Early stopping\n",
    "  * Batch normalisation"
   ]
  },
  {
   "cell_type": "code",
   "execution_count": null,
   "id": "fa8fc613-d586-4856-bdc3-1f4d39c1b50f",
   "metadata": {},
   "outputs": [],
   "source": []
  }
 ],
 "metadata": {
  "kernelspec": {
   "display_name": "Python 3 (ipykernel)",
   "language": "python",
   "name": "python3"
  },
  "language_info": {
   "codemirror_mode": {
    "name": "ipython",
    "version": 3
   },
   "file_extension": ".py",
   "mimetype": "text/x-python",
   "name": "python",
   "nbconvert_exporter": "python",
   "pygments_lexer": "ipython3",
   "version": "3.12.4"
  }
 },
 "nbformat": 4,
 "nbformat_minor": 5
}
