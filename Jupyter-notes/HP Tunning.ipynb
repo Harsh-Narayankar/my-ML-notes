{
 "cells": [
  {
   "cell_type": "markdown",
   "id": "5c928af5-a94b-4642-a955-26530c4c9365",
   "metadata": {},
   "source": [
    "# Hyper Parametre Tunning\n",
    "* By chaning this our model will improve"
   ]
  },
  {
   "cell_type": "markdown",
   "id": "bb67360a-e6d6-4f11-b4ec-063e611bb3f7",
   "metadata": {},
   "source": [
    "* Consider proper hidden layer\n",
    "* Not too much and not too more"
   ]
  }
 ],
 "metadata": {
  "kernelspec": {
   "display_name": "Python 3 (ipykernel)",
   "language": "python",
   "name": "python3"
  },
  "language_info": {
   "codemirror_mode": {
    "name": "ipython",
    "version": 3
   },
   "file_extension": ".py",
   "mimetype": "text/x-python",
   "name": "python",
   "nbconvert_exporter": "python",
   "pygments_lexer": "ipython3",
   "version": "3.12.4"
  }
 },
 "nbformat": 4,
 "nbformat_minor": 5
}
