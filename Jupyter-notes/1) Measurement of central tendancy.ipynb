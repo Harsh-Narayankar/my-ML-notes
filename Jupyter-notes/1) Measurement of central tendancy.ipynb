{
 "cells": [
  {
   "cell_type": "markdown",
   "id": "4a91f3a6-7a9c-4402-819a-fddfd7cffaf4",
   "metadata": {},
   "source": [
    "# 📘 Measurement of Central Tendency\n",
    "\n",
    "## 🧠 What is Central Tendency?\n",
    "\n",
    "Central tendency refers to the **statistical measure** that identifies a single value as **representative of an entire distribution**. It provides an accurate description of the **entire data set** using a single value that represents the **center**.\n",
    "\n",
    "---\n",
    "\n",
    "## 📏 Types of Central Tendency\n",
    "\n",
    "### 1. Mean (Arithmetic Average)\n",
    "\n",
    "**Formula:**\n",
    "\\[\n",
    "\\text{Mean} = \\frac{\\sum x_i}{n}\n",
    "\\]\n",
    "Where:\n",
    "- \\( x_i \\) = each value  \n",
    "- \\( n \\) = total number of values  \n",
    "\n",
    "**Properties:**\n",
    "- Affected by outliers  \n",
    "- Uses every value in the dataset  \n",
    "- Best for symmetrical distributions\n",
    "\n",
    "**Example:**\n",
    "Scores: 70, 75, 80, 85, 90  \n",
    "\\[\n",
    "\\text{Mean} = \\frac{70 + 75 + 80 + 85 + 90}{5} = 80\n",
    "\\]\n",
    "\n",
    "**Real-World Use Cases:**\n",
    "- Average income  \n",
    "- GDP per capita  \n",
    "- Stock market average returns  \n",
    "- Student performance  \n",
    "\n",
    "---\n",
    "\n",
    "### 2. Median\n",
    "\n",
    "**Definition:**  \n",
    "The **middle value** when data is arranged in ascending order.\n",
    "\n",
    "- Odd number of terms: middle one  \n",
    "- Even number of terms: average of two middle terms  \n",
    "- **Not affected by outliers**\n",
    "\n",
    "**Example:**\n",
    "- 5, 10, 15 → Median = 10  \n",
    "- 5, 10, 15, 100 → Median = (10 + 15) / 2 = 12.5\n",
    "\n",
    "**Real-World Use Cases:**\n",
    "- Median income  \n",
    "- Median house price  \n",
    "- Survival times in medical studies  \n",
    "\n",
    "---\n",
    "\n",
    "### 3. Mode\n",
    "\n",
    "**Definition:**  \n",
    "The value that appears **most frequently** in the dataset.\n",
    "\n",
    "**Properties:**\n",
    "- Can be **bimodal** or **multimodal**  \n",
    "- Best for **categorical or discrete** data  \n",
    "\n",
    "**Example:**\n",
    "- Data: 2, 3, 4, 4, 5 → Mode = 4\n",
    "\n",
    "**Real-World Use Cases:**\n",
    "- Most popular product size  \n",
    "- Common complaint type  \n",
    "- Popular dress size  \n",
    "- Most bought item  \n",
    "\n",
    "---\n",
    "\n",
    "## 🆚 Comparison Table\n",
    "\n",
    "| Feature              | Mean        | Median      | Mode           |\n",
    "|----------------------|-------------|-------------|----------------|\n",
    "| Uses all data?       | ✅ Yes      | ❌ No       | ❌ No          |\n",
    "| Affected by outliers?| ✅ Yes      | ❌ No       | ❌ No          |\n",
    "| Easy to calculate?   | ✅ Yes      | ✅ Yes      | ✅ Yes         |\n",
    "| Best used for        | Symmetric   | Skewed      | Categorical    |\n",
    "| Always exists?       | ✅ Yes      | ✅ Yes      | ❌ Not always  |\n",
    "\n",
    "---\n",
    "\n",
    "## 🔍 Which One is Best to Use?\n",
    "\n",
    "| Situation               | Best Measure | Reason                        |\n",
    "|-------------------------|--------------|-------------------------------|\n",
    "| Symmetric distribution  | Mean         | Fully utilizes all data       |\n",
    "| Skewed/outlier-heavy    | Median       | More robust to outliers       |\n",
    "| Categorical data        | Mode         | Only one that applies         |\n",
    "| Multimodal distribution | Mode/Median  | Mean may mislead              |\n",
    "| Income data             | Median       | Avoids distortion by top earners |\n",
    "| Preferences survey      | Mode         | Shows most common answer      |\n",
    "\n",
    "---\n",
    "\n",
    "## 🧮 Other Measures (Advanced)\n",
    "\n",
    "- **Geometric Mean** – used for rates like interest/growth  \n",
    "- **Harmonic Mean** – used for average speed, P/E ratios  \n",
    "\n",
    "---\n",
    "\n",
    "## 🌍 Real-World Examples Recap\n",
    "\n",
    "| Domain         | Central Tendency Used | Reason                          |\n",
    "|----------------|------------------------|---------------------------------|\n",
    "| Economics      | Median income          | Resists outliers                |\n",
    "| Health Sciences| Median survival rate   | Accounts for long survivors     |\n",
    "| Education      | Mean marks             | Reflects overall average        |\n",
    "| Marketing      | Mode of purchases      | Tells most common choice        |\n",
    "| Transportation | Harmonic mean speed    | Best for varying speeds         |\n",
    "\n",
    "---\n",
    "\n",
    "## ✅ Summary\n",
    "\n",
    "- Use **Mean** for **balanced data**\n",
    "- Use **Median** when **outliers/skewness** exist\n",
    "- Use **Mode** for **categorical or frequent items**\n"
   ]
  },
  {
   "cell_type": "code",
   "execution_count": 23,
   "id": "efe8a3b6-dd93-43f5-8a30-300a5e498f34",
   "metadata": {},
   "outputs": [],
   "source": [
    "import numpy as np\n",
    "import pandas as pd\n",
    "import matplotlib.pyplot as plt\n",
    "import seaborn as sns"
   ]
  },
  {
   "cell_type": "markdown",
   "id": "c6af7037-3786-4a7b-92db-360662215953",
   "metadata": {},
   "source": [
    "**Mannual**"
   ]
  },
  {
   "cell_type": "code",
   "execution_count": 2,
   "id": "42500786-8062-4bcd-a775-97e1d97b9a7b",
   "metadata": {},
   "outputs": [],
   "source": [
    "ar = np.array([2,4,6,3,7,4])"
   ]
  },
  {
   "cell_type": "code",
   "execution_count": 6,
   "id": "a44c8b2c-d697-4607-ba8d-370004d40e9d",
   "metadata": {},
   "outputs": [],
   "source": [
    "sum_ = np.sum(ar)\n",
    "len_ = len(ar)"
   ]
  },
  {
   "cell_type": "markdown",
   "id": "a01c4c8e-a4f7-4d42-a855-535de9016e89",
   "metadata": {},
   "source": [
    "Note : whenever their is () then this mean a that is a function and things need to be passed inside (like sum: The function has a code to sum the values so you need to pass the array inside the bracket )"
   ]
  },
  {
   "cell_type": "code",
   "execution_count": 8,
   "id": "1862510b-8b5c-4347-af20-15dac63fe270",
   "metadata": {},
   "outputs": [
    {
     "data": {
      "text/plain": [
       "4.333333333333333"
      ]
     },
     "execution_count": 8,
     "metadata": {},
     "output_type": "execute_result"
    }
   ],
   "source": [
    "mean = sum_/len_\n",
    "mean"
   ]
  },
  {
   "cell_type": "code",
   "execution_count": 2,
   "id": "cc3c1c25-8aa0-4ae4-8e69-c7a51147b4d0",
   "metadata": {},
   "outputs": [],
   "source": [
    "arr = np.array([5,2,6,4,8,4,0,7,1])"
   ]
  },
  {
   "cell_type": "code",
   "execution_count": 3,
   "id": "cc69e18f-1364-4455-b475-502b77e161d4",
   "metadata": {},
   "outputs": [
    {
     "data": {
      "text/plain": [
       "37"
      ]
     },
     "execution_count": 3,
     "metadata": {},
     "output_type": "execute_result"
    }
   ],
   "source": [
    "np.sum(arr)"
   ]
  },
  {
   "cell_type": "code",
   "execution_count": 4,
   "id": "60c0ff0a-1731-4421-8142-4d75fe68672f",
   "metadata": {},
   "outputs": [
    {
     "data": {
      "text/plain": [
       "9"
      ]
     },
     "execution_count": 4,
     "metadata": {},
     "output_type": "execute_result"
    }
   ],
   "source": [
    "len(arr)"
   ]
  },
  {
   "cell_type": "code",
   "execution_count": 5,
   "id": "b47586bd-7273-466a-874c-5e4de8219a75",
   "metadata": {},
   "outputs": [
    {
     "name": "stdout",
     "output_type": "stream",
     "text": [
      "4.111111111111111\n"
     ]
    }
   ],
   "source": [
    "avg = np.sum(arr)/len(arr)\n",
    "print(avg)"
   ]
  },
  {
   "cell_type": "code",
   "execution_count": 6,
   "id": "49f06266-e567-4838-a425-e7fffdd2cbf8",
   "metadata": {},
   "outputs": [
    {
     "data": {
      "text/plain": [
       "array([0, 1, 2, 4, 4, 5, 6, 7, 8])"
      ]
     },
     "execution_count": 6,
     "metadata": {},
     "output_type": "execute_result"
    }
   ],
   "source": [
    "np.sort(arr)"
   ]
  },
  {
   "cell_type": "markdown",
   "id": "5cb33c1d-b2ca-4ef3-bb8a-7ee154e3ea15",
   "metadata": {},
   "source": [
    "**Unsing Formula**"
   ]
  },
  {
   "cell_type": "code",
   "execution_count": 9,
   "id": "e5f4a253-eb80-4028-b7df-4283499ecfa3",
   "metadata": {},
   "outputs": [
    {
     "data": {
      "text/plain": [
       "4.333333333333333"
      ]
     },
     "execution_count": 9,
     "metadata": {},
     "output_type": "execute_result"
    }
   ],
   "source": [
    "mean = np.mean(ar)\n",
    "mean"
   ]
  },
  {
   "cell_type": "code",
   "execution_count": 7,
   "id": "29e31dab-f145-47c2-9af1-91a125d2310c",
   "metadata": {},
   "outputs": [
    {
     "data": {
      "text/plain": [
       "4.111111111111111"
      ]
     },
     "execution_count": 7,
     "metadata": {},
     "output_type": "execute_result"
    }
   ],
   "source": [
    "np.mean(arr)"
   ]
  },
  {
   "cell_type": "markdown",
   "id": "7d127383-6ead-4288-8dc6-0334101e92ab",
   "metadata": {},
   "source": [
    "**For Real World data**"
   ]
  },
  {
   "cell_type": "code",
   "execution_count": 3,
   "id": "13151f78-c867-4b60-9da1-ffa0959da987",
   "metadata": {},
   "outputs": [],
   "source": [
    "data = pd.read_csv(\"D:/Data Science/Datasets/shopping_trends.csv\")"
   ]
  },
  {
   "cell_type": "code",
   "execution_count": 9,
   "id": "62fd3d4d-7ce2-4142-abff-91e59c56cea7",
   "metadata": {},
   "outputs": [
    {
     "data": {
      "text/html": [
       "<div>\n",
       "<style scoped>\n",
       "    .dataframe tbody tr th:only-of-type {\n",
       "        vertical-align: middle;\n",
       "    }\n",
       "\n",
       "    .dataframe tbody tr th {\n",
       "        vertical-align: top;\n",
       "    }\n",
       "\n",
       "    .dataframe thead th {\n",
       "        text-align: right;\n",
       "    }\n",
       "</style>\n",
       "<table border=\"1\" class=\"dataframe\">\n",
       "  <thead>\n",
       "    <tr style=\"text-align: right;\">\n",
       "      <th></th>\n",
       "      <th>Customer ID</th>\n",
       "      <th>Age</th>\n",
       "      <th>Gender</th>\n",
       "      <th>Item Purchased</th>\n",
       "      <th>Category</th>\n",
       "      <th>Purchase Amount (USD)</th>\n",
       "      <th>Location</th>\n",
       "      <th>Size</th>\n",
       "      <th>Color</th>\n",
       "      <th>Season</th>\n",
       "      <th>Review Rating</th>\n",
       "      <th>Subscription Status</th>\n",
       "      <th>Payment Method</th>\n",
       "      <th>Shipping Type</th>\n",
       "      <th>Discount Applied</th>\n",
       "      <th>Promo Code Used</th>\n",
       "      <th>Previous Purchases</th>\n",
       "      <th>Preferred Payment Method</th>\n",
       "      <th>Frequency of Purchases</th>\n",
       "    </tr>\n",
       "  </thead>\n",
       "  <tbody>\n",
       "    <tr>\n",
       "      <th>0</th>\n",
       "      <td>1</td>\n",
       "      <td>55</td>\n",
       "      <td>Male</td>\n",
       "      <td>Blouse</td>\n",
       "      <td>Clothing</td>\n",
       "      <td>53</td>\n",
       "      <td>Kentucky</td>\n",
       "      <td>L</td>\n",
       "      <td>Gray</td>\n",
       "      <td>Winter</td>\n",
       "      <td>3.1</td>\n",
       "      <td>Yes</td>\n",
       "      <td>Credit Card</td>\n",
       "      <td>Express</td>\n",
       "      <td>Yes</td>\n",
       "      <td>Yes</td>\n",
       "      <td>14</td>\n",
       "      <td>Venmo</td>\n",
       "      <td>Fortnightly</td>\n",
       "    </tr>\n",
       "    <tr>\n",
       "      <th>1</th>\n",
       "      <td>2</td>\n",
       "      <td>19</td>\n",
       "      <td>Male</td>\n",
       "      <td>Sweater</td>\n",
       "      <td>Clothing</td>\n",
       "      <td>64</td>\n",
       "      <td>Maine</td>\n",
       "      <td>L</td>\n",
       "      <td>Maroon</td>\n",
       "      <td>Winter</td>\n",
       "      <td>3.1</td>\n",
       "      <td>Yes</td>\n",
       "      <td>Bank Transfer</td>\n",
       "      <td>Express</td>\n",
       "      <td>Yes</td>\n",
       "      <td>Yes</td>\n",
       "      <td>2</td>\n",
       "      <td>Cash</td>\n",
       "      <td>Fortnightly</td>\n",
       "    </tr>\n",
       "    <tr>\n",
       "      <th>2</th>\n",
       "      <td>3</td>\n",
       "      <td>50</td>\n",
       "      <td>Male</td>\n",
       "      <td>Jeans</td>\n",
       "      <td>Clothing</td>\n",
       "      <td>73</td>\n",
       "      <td>Massachusetts</td>\n",
       "      <td>S</td>\n",
       "      <td>Maroon</td>\n",
       "      <td>Spring</td>\n",
       "      <td>3.1</td>\n",
       "      <td>Yes</td>\n",
       "      <td>Cash</td>\n",
       "      <td>Free Shipping</td>\n",
       "      <td>Yes</td>\n",
       "      <td>Yes</td>\n",
       "      <td>23</td>\n",
       "      <td>Credit Card</td>\n",
       "      <td>Weekly</td>\n",
       "    </tr>\n",
       "    <tr>\n",
       "      <th>3</th>\n",
       "      <td>4</td>\n",
       "      <td>21</td>\n",
       "      <td>Male</td>\n",
       "      <td>Sandals</td>\n",
       "      <td>Footwear</td>\n",
       "      <td>90</td>\n",
       "      <td>Rhode Island</td>\n",
       "      <td>M</td>\n",
       "      <td>Maroon</td>\n",
       "      <td>Spring</td>\n",
       "      <td>3.5</td>\n",
       "      <td>Yes</td>\n",
       "      <td>PayPal</td>\n",
       "      <td>Next Day Air</td>\n",
       "      <td>Yes</td>\n",
       "      <td>Yes</td>\n",
       "      <td>49</td>\n",
       "      <td>PayPal</td>\n",
       "      <td>Weekly</td>\n",
       "    </tr>\n",
       "    <tr>\n",
       "      <th>4</th>\n",
       "      <td>5</td>\n",
       "      <td>45</td>\n",
       "      <td>Male</td>\n",
       "      <td>Blouse</td>\n",
       "      <td>Clothing</td>\n",
       "      <td>49</td>\n",
       "      <td>Oregon</td>\n",
       "      <td>M</td>\n",
       "      <td>Turquoise</td>\n",
       "      <td>Spring</td>\n",
       "      <td>2.7</td>\n",
       "      <td>Yes</td>\n",
       "      <td>Cash</td>\n",
       "      <td>Free Shipping</td>\n",
       "      <td>Yes</td>\n",
       "      <td>Yes</td>\n",
       "      <td>31</td>\n",
       "      <td>PayPal</td>\n",
       "      <td>Annually</td>\n",
       "    </tr>\n",
       "    <tr>\n",
       "      <th>5</th>\n",
       "      <td>6</td>\n",
       "      <td>46</td>\n",
       "      <td>Male</td>\n",
       "      <td>Sneakers</td>\n",
       "      <td>Footwear</td>\n",
       "      <td>20</td>\n",
       "      <td>Wyoming</td>\n",
       "      <td>M</td>\n",
       "      <td>White</td>\n",
       "      <td>Summer</td>\n",
       "      <td>2.9</td>\n",
       "      <td>Yes</td>\n",
       "      <td>Venmo</td>\n",
       "      <td>Standard</td>\n",
       "      <td>Yes</td>\n",
       "      <td>Yes</td>\n",
       "      <td>14</td>\n",
       "      <td>Venmo</td>\n",
       "      <td>Weekly</td>\n",
       "    </tr>\n",
       "    <tr>\n",
       "      <th>6</th>\n",
       "      <td>7</td>\n",
       "      <td>63</td>\n",
       "      <td>Male</td>\n",
       "      <td>Shirt</td>\n",
       "      <td>Clothing</td>\n",
       "      <td>85</td>\n",
       "      <td>Montana</td>\n",
       "      <td>M</td>\n",
       "      <td>Gray</td>\n",
       "      <td>Fall</td>\n",
       "      <td>3.2</td>\n",
       "      <td>Yes</td>\n",
       "      <td>Debit Card</td>\n",
       "      <td>Free Shipping</td>\n",
       "      <td>Yes</td>\n",
       "      <td>Yes</td>\n",
       "      <td>49</td>\n",
       "      <td>Cash</td>\n",
       "      <td>Quarterly</td>\n",
       "    </tr>\n",
       "    <tr>\n",
       "      <th>7</th>\n",
       "      <td>8</td>\n",
       "      <td>27</td>\n",
       "      <td>Male</td>\n",
       "      <td>Shorts</td>\n",
       "      <td>Clothing</td>\n",
       "      <td>34</td>\n",
       "      <td>Louisiana</td>\n",
       "      <td>L</td>\n",
       "      <td>Charcoal</td>\n",
       "      <td>Winter</td>\n",
       "      <td>3.2</td>\n",
       "      <td>Yes</td>\n",
       "      <td>Debit Card</td>\n",
       "      <td>Free Shipping</td>\n",
       "      <td>Yes</td>\n",
       "      <td>Yes</td>\n",
       "      <td>19</td>\n",
       "      <td>Credit Card</td>\n",
       "      <td>Weekly</td>\n",
       "    </tr>\n",
       "    <tr>\n",
       "      <th>8</th>\n",
       "      <td>9</td>\n",
       "      <td>26</td>\n",
       "      <td>Male</td>\n",
       "      <td>Coat</td>\n",
       "      <td>Outerwear</td>\n",
       "      <td>97</td>\n",
       "      <td>West Virginia</td>\n",
       "      <td>L</td>\n",
       "      <td>Silver</td>\n",
       "      <td>Summer</td>\n",
       "      <td>2.6</td>\n",
       "      <td>Yes</td>\n",
       "      <td>Venmo</td>\n",
       "      <td>Express</td>\n",
       "      <td>Yes</td>\n",
       "      <td>Yes</td>\n",
       "      <td>8</td>\n",
       "      <td>Venmo</td>\n",
       "      <td>Annually</td>\n",
       "    </tr>\n",
       "    <tr>\n",
       "      <th>9</th>\n",
       "      <td>10</td>\n",
       "      <td>57</td>\n",
       "      <td>Male</td>\n",
       "      <td>Handbag</td>\n",
       "      <td>Accessories</td>\n",
       "      <td>31</td>\n",
       "      <td>Missouri</td>\n",
       "      <td>M</td>\n",
       "      <td>Pink</td>\n",
       "      <td>Spring</td>\n",
       "      <td>4.8</td>\n",
       "      <td>Yes</td>\n",
       "      <td>PayPal</td>\n",
       "      <td>2-Day Shipping</td>\n",
       "      <td>Yes</td>\n",
       "      <td>Yes</td>\n",
       "      <td>4</td>\n",
       "      <td>Cash</td>\n",
       "      <td>Quarterly</td>\n",
       "    </tr>\n",
       "  </tbody>\n",
       "</table>\n",
       "</div>"
      ],
      "text/plain": [
       "   Customer ID  Age Gender Item Purchased     Category  Purchase Amount (USD)  \\\n",
       "0            1   55   Male         Blouse     Clothing                     53   \n",
       "1            2   19   Male        Sweater     Clothing                     64   \n",
       "2            3   50   Male          Jeans     Clothing                     73   \n",
       "3            4   21   Male        Sandals     Footwear                     90   \n",
       "4            5   45   Male         Blouse     Clothing                     49   \n",
       "5            6   46   Male       Sneakers     Footwear                     20   \n",
       "6            7   63   Male          Shirt     Clothing                     85   \n",
       "7            8   27   Male         Shorts     Clothing                     34   \n",
       "8            9   26   Male           Coat    Outerwear                     97   \n",
       "9           10   57   Male        Handbag  Accessories                     31   \n",
       "\n",
       "        Location Size      Color  Season  Review Rating Subscription Status  \\\n",
       "0       Kentucky    L       Gray  Winter            3.1                 Yes   \n",
       "1          Maine    L     Maroon  Winter            3.1                 Yes   \n",
       "2  Massachusetts    S     Maroon  Spring            3.1                 Yes   \n",
       "3   Rhode Island    M     Maroon  Spring            3.5                 Yes   \n",
       "4         Oregon    M  Turquoise  Spring            2.7                 Yes   \n",
       "5        Wyoming    M      White  Summer            2.9                 Yes   \n",
       "6        Montana    M       Gray    Fall            3.2                 Yes   \n",
       "7      Louisiana    L   Charcoal  Winter            3.2                 Yes   \n",
       "8  West Virginia    L     Silver  Summer            2.6                 Yes   \n",
       "9       Missouri    M       Pink  Spring            4.8                 Yes   \n",
       "\n",
       "  Payment Method   Shipping Type Discount Applied Promo Code Used  \\\n",
       "0    Credit Card         Express              Yes             Yes   \n",
       "1  Bank Transfer         Express              Yes             Yes   \n",
       "2           Cash   Free Shipping              Yes             Yes   \n",
       "3         PayPal    Next Day Air              Yes             Yes   \n",
       "4           Cash   Free Shipping              Yes             Yes   \n",
       "5          Venmo        Standard              Yes             Yes   \n",
       "6     Debit Card   Free Shipping              Yes             Yes   \n",
       "7     Debit Card   Free Shipping              Yes             Yes   \n",
       "8          Venmo         Express              Yes             Yes   \n",
       "9         PayPal  2-Day Shipping              Yes             Yes   \n",
       "\n",
       "   Previous Purchases Preferred Payment Method Frequency of Purchases  \n",
       "0                  14                    Venmo            Fortnightly  \n",
       "1                   2                     Cash            Fortnightly  \n",
       "2                  23              Credit Card                 Weekly  \n",
       "3                  49                   PayPal                 Weekly  \n",
       "4                  31                   PayPal               Annually  \n",
       "5                  14                    Venmo                 Weekly  \n",
       "6                  49                     Cash              Quarterly  \n",
       "7                  19              Credit Card                 Weekly  \n",
       "8                   8                    Venmo               Annually  \n",
       "9                   4                     Cash              Quarterly  "
      ]
     },
     "execution_count": 9,
     "metadata": {},
     "output_type": "execute_result"
    }
   ],
   "source": [
    "data.head(10)"
   ]
  },
  {
   "cell_type": "code",
   "execution_count": 10,
   "id": "b70c5d40-39b2-4fa4-8109-e6f67f8e148c",
   "metadata": {},
   "outputs": [
    {
     "data": {
      "text/plain": [
       "(3900, 19)"
      ]
     },
     "execution_count": 10,
     "metadata": {},
     "output_type": "execute_result"
    }
   ],
   "source": [
    "data.shape"
   ]
  },
  {
   "cell_type": "code",
   "execution_count": 11,
   "id": "1d67ccea-d2ec-40d5-b63d-1166e6824c1c",
   "metadata": {},
   "outputs": [],
   "source": [
    "avg_age = np.mean(data['Age'])"
   ]
  },
  {
   "cell_type": "code",
   "execution_count": 12,
   "id": "cdd56611-d9fd-4ede-8fdf-26513ca3bdcc",
   "metadata": {},
   "outputs": [
    {
     "data": {
      "text/plain": [
       "44.06846153846154"
      ]
     },
     "execution_count": 12,
     "metadata": {},
     "output_type": "execute_result"
    }
   ],
   "source": [
    "avg_age"
   ]
  },
  {
   "cell_type": "code",
   "execution_count": 13,
   "id": "095980b9-2c66-47d6-9a30-c02e1ba28620",
   "metadata": {},
   "outputs": [
    {
     "name": "stdout",
     "output_type": "stream",
     "text": [
      "3.7499487179487176\n"
     ]
    }
   ],
   "source": [
    "avg_review = np.mean((data['Review Rating']))\n",
    "print(avg_review)"
   ]
  },
  {
   "cell_type": "markdown",
   "id": "5ef7941e-b6f4-4dba-b5ae-9fcb85dd9722",
   "metadata": {},
   "source": [
    "To see where ecxactly this mean is lying"
   ]
  },
  {
   "cell_type": "code",
   "execution_count": 14,
   "id": "600a8b0a-82cf-4bd9-a10d-4dcb43f3070e",
   "metadata": {},
   "outputs": [],
   "source": [
    "import matplotlib.pyplot as plt\n",
    "import seaborn as sns #For advance graph"
   ]
  },
  {
   "cell_type": "markdown",
   "id": "4e2e8b03-e402-41c7-aa79-47cd6872f171",
   "metadata": {},
   "source": [
    "# 📊 `matplotlib.pyplot` vs `seaborn`\n",
    "\n",
    "## 🔍 Overview\n",
    "\n",
    "| Feature                      | `matplotlib.pyplot`                             | `seaborn`                                         |\n",
    "|-----------------------------|--------------------------------------------------|--------------------------------------------------|\n",
    "| **Library Type**            | Low-level plotting library                      | High-level statistical plotting library built on `matplotlib` |\n",
    "| **Customization**           | Very high, but manual                           | Moderate to high, with better aesthetics out of the box |\n",
    "| **Ease of Use**             | More verbose code                                | Simplified syntax, cleaner defaults              |\n",
    "| **Visual Aesthetics**       | Basic/Default visuals                           | Prettier and more polished visuals               |\n",
    "| **Statistical Features**    | Requires manual calculation (e.g., mean, CI)     | Has built-in support for statistical plotting    |\n",
    "| **Works With**              | All numeric and categorical data                | Primarily works with `pandas` DataFrames         |\n",
    "| **Interactivity**           | Static images                                   | Static (but integrates well with `matplotlib`)   |\n",
    "\n",
    "---\n",
    "\n",
    "## ✅ When to Use `matplotlib.pyplot`\n",
    "\n",
    "- When you want **full control** over the plot (axes, ticks, grid, annotations, etc.)\n",
    "- To create **custom or complex plots**\n",
    "- For **fine-tuning** the visuals\n",
    "- When Seaborn can't do a specific plot\n",
    "\n",
    "### 📌 Example:\n",
    "```python\n",
    "import matplotlib.pyplot as plt\n",
    "\n",
    "x = [1, 2, 3, 4]\n",
    "y = [10, 20, 25, 30]\n",
    "\n",
    "plt.plot(x, y)\n",
    "plt.title(\"Line Plot\")\n",
    "plt.xlabel(\"X-axis\")\n",
    "plt.ylabel(\"Y-axis\")\n",
    "plt.show()\n"
   ]
  },
  {
   "cell_type": "code",
   "execution_count": 15,
   "id": "3935d678-29ec-44be-acf8-f14c0d019524",
   "metadata": {
    "scrolled": true
   },
   "outputs": [
    {
     "data": {
      "text/plain": [
       "70"
      ]
     },
     "execution_count": 15,
     "metadata": {},
     "output_type": "execute_result"
    }
   ],
   "source": [
    "data[\"Age\"].max()"
   ]
  },
  {
   "cell_type": "markdown",
   "id": "ec40dbe6-59ee-4421-8772-d8b190008ac8",
   "metadata": {},
   "source": [
    "* For histogram we need to pass\n",
    "1) column for x axis as x='colomn_name' ,\n",
    "2) data = df ,\n",
    "3) bins = number of groups or bars (desided by width of bar)"
   ]
  },
  {
   "cell_type": "code",
   "execution_count": 24,
   "id": "2cd12b2a-af9c-4dfd-8b4e-a51a03b54490",
   "metadata": {},
   "outputs": [
    {
     "data": {
      "text/plain": [
       "<Axes: xlabel='Age', ylabel='Count'>"
      ]
     },
     "execution_count": 24,
     "metadata": {},
     "output_type": "execute_result"
    },
    {
     "data": {
      "image/png": "[encoded data removed]",
      "text/plain": [
       "<Figure size 640x480 with 1 Axes>"
      ]
     },
     "metadata": {},
     "output_type": "display_data"
    }
   ],
   "source": [
    "sns.histplot(x='Age', data=data, bins=[i for i in range(0,100,2)])"
   ]
  },
  {
   "cell_type": "code",
   "execution_count": 29,
   "id": "e3c08980-1911-4c2f-acdb-0c4f5fd5934d",
   "metadata": {},
   "outputs": [
    {
     "data": {
      "text/plain": [
       "[<matplotlib.lines.Line2D at 0x1d03fc83770>]"
      ]
     },
     "execution_count": 29,
     "metadata": {},
     "output_type": "execute_result"
    },
    {
     "data": {
      "image/png": "[encoded data removed]",
      "text/plain": [
       "<Figure size 640x480 with 1 Axes>"
      ]
     },
     "metadata": {},
     "output_type": "display_data"
    }
   ],
   "source": [
    "#Plot mean\n",
    "sns.histplot(x='Age', data=data, bins=[i for i in range(10,71,2)])\n",
    "mn = np.mean(data['Age'])\n",
    "plt.plot([mn for i in range(0,300)], [i for i in range(0,300)], c='red')\n",
    "#Two parametres are passed x axis and u axis"
   ]
  },
  {
   "cell_type": "code",
   "execution_count": null,
   "id": "66b3a567-9da6-4dd0-96b8-08be9d5e25ce",
   "metadata": {},
   "outputs": [],
   "source": []
  },
  {
   "cell_type": "code",
   "execution_count": null,
   "id": "d896ce06-30fe-4973-8755-801693325d17",
   "metadata": {},
   "outputs": [],
   "source": []
  },
  {
   "cell_type": "markdown",
   "id": "47b42fbd-7568-4017-89c4-a5d57098af19",
   "metadata": {},
   "source": [
    "# Median #"
   ]
  },
  {
   "cell_type": "markdown",
   "id": "1fc60ec7-6ca1-4e6a-aea0-d2a6ddcfc944",
   "metadata": {},
   "source": [
    "* Number which lie in the midel of the data\n",
    "* Their are two condition\n",
    " * 1) odd : center value can be fetched\n",
    "   2) even : (a+b)/2"
   ]
  },
  {
   "cell_type": "code",
   "execution_count": 39,
   "id": "ed88a0e1-53dd-4cbe-a481-abf037b0e762",
   "metadata": {},
   "outputs": [
    {
     "data": {
      "text/plain": [
       "44.0"
      ]
     },
     "execution_count": 39,
     "metadata": {},
     "output_type": "execute_result"
    }
   ],
   "source": [
    "np.median(data['Age']) # it will atometically sort the data into assending order"
   ]
  },
  {
   "cell_type": "code",
   "execution_count": 34,
   "id": "604dd640-51c3-4c6c-b39b-6b1522499519",
   "metadata": {},
   "outputs": [
    {
     "data": {
      "text/plain": [
       "Customer ID                 0\n",
       "Age                         0\n",
       "Gender                      0\n",
       "Item Purchased              0\n",
       "Category                    0\n",
       "Purchase Amount (USD)       0\n",
       "Location                    0\n",
       "Size                        0\n",
       "Color                       0\n",
       "Season                      0\n",
       "Review Rating               0\n",
       "Subscription Status         0\n",
       "Payment Method              0\n",
       "Shipping Type               0\n",
       "Discount Applied            0\n",
       "Promo Code Used             0\n",
       "Previous Purchases          0\n",
       "Preferred Payment Method    0\n",
       "Frequency of Purchases      0\n",
       "dtype: int64"
      ]
     },
     "execution_count": 34,
     "metadata": {},
     "output_type": "execute_result"
    }
   ],
   "source": [
    "data.isnull().sum()"
   ]
  },
  {
   "cell_type": "code",
   "execution_count": 36,
   "id": "9d040af2-aeca-4aec-af4c-5574a85b6e05",
   "metadata": {},
   "outputs": [
    {
     "data": {
      "text/plain": [
       "0       55\n",
       "1       19\n",
       "2       50\n",
       "3       21\n",
       "4       45\n",
       "        ..\n",
       "3895    40\n",
       "3896    52\n",
       "3897    46\n",
       "3898    44\n",
       "3899    52\n",
       "Name: Age, Length: 3900, dtype: int64"
      ]
     },
     "execution_count": 36,
     "metadata": {},
     "output_type": "execute_result"
    }
   ],
   "source": [
    "data['Age'].fillna(data['Age'].mean())"
   ]
  },
  {
   "cell_type": "markdown",
   "id": "138f1623-4d28-4273-9f39-4d4e5debf87e",
   "metadata": {},
   "source": [
    "* Now plotting both mean and median"
   ]
  },
  {
   "cell_type": "code",
   "execution_count": 65,
   "id": "050454e2-a9b2-4633-8e2c-37f96110cd5e",
   "metadata": {},
   "outputs": [
    {
     "name": "stdout",
     "output_type": "stream",
     "text": [
      "Mean:  44.06846153846154\n",
      "Median:  44.0\n"
     ]
    },
    {
     "data": {
      "text/plain": [
       "[<matplotlib.lines.Line2D at 0x1d04800a630>]"
      ]
     },
     "execution_count": 65,
     "metadata": {},
     "output_type": "execute_result"
    },
    {
     "data": {
      "image/png": "[encoded data removed]",
      "text/plain": [
       "<Figure size 640x480 with 1 Axes>"
      ]
     },
     "metadata": {},
     "output_type": "display_data"
    }
   ],
   "source": [
    "sns.histplot(x='Age', data=data, bins= [i for i in range(0,100,2)])\n",
    "mean = np.mean(data['Age'])\n",
    "print('Mean: ',mean)\n",
    "plt.plot([mean for i in range (0,200)], [i for i in range (0,200)], c='red')\n",
    "median = np.median(data['Age'])\n",
    "print('Median: ', median)\n",
    "plt.plot([median for i in range (0,200)], [i for i in range (0,200)], c='blue')"
   ]
  },
  {
   "cell_type": "code",
   "execution_count": null,
   "id": "91e22e86-0cea-4ef7-b42a-5d88b2062d4d",
   "metadata": {},
   "outputs": [],
   "source": []
  },
  {
   "cell_type": "code",
   "execution_count": null,
   "id": "9bbadf98-9d51-44b2-9011-8db7e60a4512",
   "metadata": {},
   "outputs": [],
   "source": []
  },
  {
   "cell_type": "markdown",
   "id": "14e739a5-3a68-41aa-9298-11484d40b1de",
   "metadata": {},
   "source": [
    "# Mode"
   ]
  },
  {
   "cell_type": "markdown",
   "id": "41d43b26-baaf-47d9-9448-debd3ea6c72d",
   "metadata": {},
   "source": [
    "* Data which is most repeating\n",
    "* row which has more frequency will be the mode\n",
    "* Mostly used in categorical data (i.e sex, country)"
   ]
  },
  {
   "cell_type": "code",
   "execution_count": 12,
   "id": "52d2e549-3f74-4463-b259-083ec53fd358",
   "metadata": {},
   "outputs": [
    {
     "data": {
      "text/plain": [
       "'Montana'"
      ]
     },
     "execution_count": 12,
     "metadata": {},
     "output_type": "execute_result"
    }
   ],
   "source": [
    "data['Location'].mode()[0]"
   ]
  },
  {
   "cell_type": "code",
   "execution_count": 68,
   "id": "71566fbc-7f86-415f-992d-796995d2dd70",
   "metadata": {},
   "outputs": [
    {
     "data": {
      "text/plain": [
       "Location\n",
       "Montana           96\n",
       "California        95\n",
       "Idaho             93\n",
       "Illinois          92\n",
       "Alabama           89\n",
       "Minnesota         88\n",
       "Nebraska          87\n",
       "New York          87\n",
       "Nevada            87\n",
       "Maryland          86\n",
       "Delaware          86\n",
       "Vermont           85\n",
       "Louisiana         84\n",
       "North Dakota      83\n",
       "Missouri          81\n",
       "West Virginia     81\n",
       "New Mexico        81\n",
       "Mississippi       80\n",
       "Indiana           79\n",
       "Georgia           79\n",
       "Kentucky          79\n",
       "Arkansas          79\n",
       "North Carolina    78\n",
       "Connecticut       78\n",
       "Virginia          77\n",
       "Ohio              77\n",
       "Tennessee         77\n",
       "Texas             77\n",
       "Maine             77\n",
       "South Carolina    76\n",
       "Colorado          75\n",
       "Oklahoma          75\n",
       "Wisconsin         75\n",
       "Oregon            74\n",
       "Pennsylvania      74\n",
       "Washington        73\n",
       "Michigan          73\n",
       "Alaska            72\n",
       "Massachusetts     72\n",
       "Wyoming           71\n",
       "Utah              71\n",
       "New Hampshire     71\n",
       "South Dakota      70\n",
       "Iowa              69\n",
       "Florida           68\n",
       "New Jersey        67\n",
       "Hawaii            65\n",
       "Arizona           65\n",
       "Kansas            63\n",
       "Rhode Island      63\n",
       "Name: count, dtype: int64"
      ]
     },
     "execution_count": 68,
     "metadata": {},
     "output_type": "execute_result"
    }
   ],
   "source": [
    "# to know how many times it is occuring\n",
    "data['Location'].value_counts()"
   ]
  },
  {
   "cell_type": "code",
   "execution_count": null,
   "id": "1a3983ee-abc0-44db-a2a6-26ae449ea2ba",
   "metadata": {},
   "outputs": [],
   "source": []
  },
  {
   "cell_type": "markdown",
   "id": "00aae6e3-4685-48fc-a214-648ac4503bb4",
   "metadata": {},
   "source": [
    "# Practice"
   ]
  },
  {
   "cell_type": "code",
   "execution_count": 8,
   "id": "061b87e9-e1b0-4cd0-ba2f-10763b7731d2",
   "metadata": {},
   "outputs": [
    {
     "data": {
      "text/plain": [
       "array([92, 34, 51, 39, 98, 79, 98, 28, 99, 10, 19, 62, 30, 17, 35, 34, 98,\n",
       "       67, 74, 54, 58, 11, 38, 24, 12, 59, 97, 31, 52, 18, 94, 11, 87, 91,\n",
       "       60, 96, 87, 71, 91])"
      ]
     },
     "execution_count": 8,
     "metadata": {},
     "output_type": "execute_result"
    }
   ],
   "source": [
    "arr = np.random.randint(10,100,39)\n",
    "arr"
   ]
  },
  {
   "cell_type": "code",
   "execution_count": 9,
   "id": "cfa3c712-4e12-4990-8c6a-1159918ccd5e",
   "metadata": {},
   "outputs": [
    {
     "data": {
      "text/plain": [
       "56.56410256410256"
      ]
     },
     "execution_count": 9,
     "metadata": {},
     "output_type": "execute_result"
    }
   ],
   "source": [
    "np.mean(arr)"
   ]
  },
  {
   "cell_type": "code",
   "execution_count": 18,
   "id": "8a296ec5-4343-4b7f-9c06-d5173a881f5b",
   "metadata": {},
   "outputs": [
    {
     "ename": "AttributeError",
     "evalue": "'numpy.ndarray' object has no attribute 'mode'",
     "output_type": "error",
     "traceback": [
      "\u001b[1;31m---------------------------------------------------------------------------\u001b[0m",
      "\u001b[1;31mAttributeError\u001b[0m                            Traceback (most recent call last)",
      "Cell \u001b[1;32mIn[18], line 1\u001b[0m\n\u001b[1;32m----> 1\u001b[0m \u001b[43marr\u001b[49m\u001b[38;5;241;43m.\u001b[39;49m\u001b[43mmode\u001b[49m()\n",
      "\u001b[1;31mAttributeError\u001b[0m: 'numpy.ndarray' object has no attribute 'mode'"
     ]
    }
   ],
   "source": [
    "arr.mode()"
   ]
  },
  {
   "cell_type": "markdown",
   "id": "d9f3df9a-4c73-4a56-b3d6-014e65c77f90",
   "metadata": {},
   "source": [
    "We can only use .mode() on columns of dataset but not on array"
   ]
  },
  {
   "cell_type": "code",
   "execution_count": 21,
   "id": "ad6f48f4-f62f-4654-bc58-f9b2c3264ae3",
   "metadata": {},
   "outputs": [
    {
     "data": {
      "text/plain": [
       "58.0"
      ]
     },
     "execution_count": 21,
     "metadata": {},
     "output_type": "execute_result"
    }
   ],
   "source": [
    "np.median(arr)"
   ]
  },
  {
   "cell_type": "code",
   "execution_count": 62,
   "id": "b1357e0e-ec76-44c1-89d6-7704469d5e4d",
   "metadata": {},
   "outputs": [
    {
     "data": {
      "image/png": "[encoded data removed]",
      "text/plain": [
       "<Figure size 640x480 with 1 Axes>"
      ]
     },
     "metadata": {},
     "output_type": "display_data"
    }
   ],
   "source": [
    "# Plot\n",
    "mean = np.mean(arr)\n",
    "median = np.median(arr)\n",
    "\n",
    "sns.histplot(arr, bins= [i for i in range(1,100,2)])\n",
    "plt.plot([mean for i in range (0,7)], [i for i in range(0,7)], color='red', label='Mean')\n",
    "plt.plot([median for i in range (0,7)], [i for i in range(0,7)], color='orange', label='Median')\n",
    "\n",
    "plt.legend()\n",
    "plt.show()"
   ]
  }
 ],
 "metadata": {
  "kernelspec": {
   "display_name": "Python 3 (ipykernel)",
   "language": "python",
   "name": "python3"
  },
  "language_info": {
   "codemirror_mode": {
    "name": "ipython",
    "version": 3
   },
   "file_extension": ".py",
   "mimetype": "text/x-python",
   "name": "python",
   "nbconvert_exporter": "python",
   "pygments_lexer": "ipython3",
   "version": "3.12.4"
  }
 },
 "nbformat": 4,
 "nbformat_minor": 5
}
